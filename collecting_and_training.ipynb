{
 "cells": [
  {
   "cell_type": "markdown",
   "metadata": {
    "id": "LuKr-VfjBY3m"
   },
   "source": [
    "# Халайджи Александр Константинович\n",
    "\n",
    "### Задача 2.2\n",
    "\n",
    "Разработать скрипт, который будет с адекватным качеством классифицировать тексты по стилю (“разговорный”, “техническая литература”, “художественная литература”). \n",
    "(качество может быть ограничено лимитированным временем).\n",
    "Обучающий датасет не предоставляется. \n",
    "\n",
    "Ссылка на колаб - https://colab.research.google.com/drive/1wC4MEiz0zC8GkHikQ5D1x7Kk4E9sDsBQ?usp=sharing"
   ]
  },
  {
   "cell_type": "markdown",
   "metadata": {
    "id": "29xszbsWAKHH"
   },
   "source": [
    "Итак, надо написать модель, которая определяет стиль написания текста, то есть определяет текст к одному из трёх стилей:\n",
    "\n",
    "\n",
    "1.   Разговорный стиль\n",
    "2.   Художественный стиль\n",
    "3.   Технический стиль\n",
    "\n",
    "Для того, чтобы решить эту задачу, надо для начала найти датасет с данными. Поскольку я не смог найти прямого датасета под эту задачу в интернете, буду собирать этот датасет частями. То есть надо найти какие-то данные под каждый из пунктов и соединить их вместе\n",
    "\n"
   ]
  },
  {
   "cell_type": "markdown",
   "metadata": {
    "id": "Qaut59M3B9nw"
   },
   "source": [
    "Саму задачу буду решать **на русском языке** - по-хорошему это надо обсуждать с заказчиками, но в этой задаче сделаем вид, что это обсудили - заказчики русскоговорящие, планируют выпустить какое-то приложение в России и им необходимо написать определение стиля написания для русских текстов"
   ]
  },
  {
   "cell_type": "markdown",
   "metadata": {
    "id": "XZkt7s8ICVW7"
   },
   "source": [
    "### Разговорная речь\n",
    "\n",
    "Какие датасеты вообще приходят в голову, когда речь заходит о разговорном стиле. Ну во-первых, можно взять датасет каких-нибудь диалогов людей и вытащить оттуда отдельные реплики. Можно взять какие-то обычные сообщения пользователей в мессенджерах. Можно взять те же твиты людей. Все эти варианты являются достаточно неплохими. Можно взять все это вместе и объединить - получить большой такой датасет. "
   ]
  },
  {
   "cell_type": "markdown",
   "metadata": {
    "id": "dnBBS9UZA8ae"
   },
   "source": [
    "### Художественный стиль\n",
    "\n",
    "Ну тут всё ясно и достаточно однозначно - самый лучший источник текстов в художественном стиле - это произведения художественной литературы. Например, какая-нибудь классика типа Толстого, Чехова, Пушкина. Благо тут можно вытащить достаточно много данных"
   ]
  },
  {
   "cell_type": "markdown",
   "metadata": {
    "id": "euLl5pDZC_Cj"
   },
   "source": [
    "### Технический стиль\n",
    "\n",
    "Ну и тут в целом всё достаточно понятно. В техническом стиле пишут статьи и разные учебники. Достаточно рассмотреть статьи по разным тематикам и предметным областям, взять учебники по разным дисциплинам и достать тексты оттуда"
   ]
  },
  {
   "cell_type": "code",
   "execution_count": 1,
   "metadata": {
    "id": "p7OUEm0bIodt"
   },
   "outputs": [],
   "source": [
    "import numpy as np\n",
    "import pandas as pd\n",
    "import matplotlib.pyplot as plt\n",
    "import string\n",
    "import re"
   ]
  },
  {
   "cell_type": "markdown",
   "metadata": {
    "id": "uXjOsAhXDWzy"
   },
   "source": [
    "Таким образом мы нашли способ искать тексты различных стилей. **Давайте напишем генерацию данных**. Далее этими данными мы будем пользоваться в задаче"
   ]
  },
  {
   "cell_type": "markdown",
   "metadata": {
    "id": "v08_vzc8Dhzh"
   },
   "source": [
    "Попробуем начать с *разговорного стиля*. \n",
    "\n",
    "Для начала посмотрим на датасет из интернета, в котором собраны диалоги из художественных произведений. Есть некоторые сомнения по поводу этого датасета - но возможно, не всё так плохо"
   ]
  },
  {
   "cell_type": "code",
   "execution_count": 2,
   "metadata": {
    "colab": {
     "base_uri": "https://localhost:8080/"
    },
    "id": "U-Sj4Fk7_tHa",
    "outputId": "c31e1292-06fc-42a1-eefa-65d9042385c9"
   },
   "outputs": [
    {
     "name": "stdout",
     "output_type": "stream",
     "text": [
      "--2022-01-18 15:41:08--  https://raw.githubusercontent.com/Koziev/NLP_Datasets/master/Conversations/Data/ru.conversations.txt\n",
      "Resolving raw.githubusercontent.com (raw.githubusercontent.com)... 185.199.108.133, 185.199.109.133, 185.199.110.133, ...\n",
      "Connecting to raw.githubusercontent.com (raw.githubusercontent.com)|185.199.108.133|:443... connected.\n",
      "HTTP request sent, awaiting response... 200 OK\n",
      "Length: 9718314 (9.3M) [text/plain]\n",
      "Saving to: ‘ru.conversations.txt’\n",
      "\n",
      "ru.conversations.tx 100%[===================>]   9.27M  --.-KB/s    in 0.09s   \n",
      "\n",
      "2022-01-18 15:41:09 (99.1 MB/s) - ‘ru.conversations.txt’ saved [9718314/9718314]\n",
      "\n"
     ]
    }
   ],
   "source": [
    "!wget https://raw.githubusercontent.com/Koziev/NLP_Datasets/master/Conversations/Data/ru.conversations.txt"
   ]
  },
  {
   "cell_type": "code",
   "execution_count": 3,
   "metadata": {
    "colab": {
     "base_uri": "https://localhost:8080/"
    },
    "id": "DoQs-hkr_xYV",
    "outputId": "fc5016ce-3dbc-455c-af76-07f806ec7758"
   },
   "outputs": [
    {
     "name": "stdout",
     "output_type": "stream",
     "text": [
      "['- Что,  Мансур,  не жарко теперь тебе?\\n', '- Спрашиваю, не жарко ему теперь?\\n', '\\n', '- Какой полк?\\n', '- Тысяча тридцать четвертый.\\n', '- Вези дальше. Тут тысяча двадцать шестой.\\n', '\\n', '- Какая санрота?\\n', '- Тысяча тридцать шестая.\\n', '- Значит, наша! Принимай тяжелораненого!\\n']\n"
     ]
    }
   ],
   "source": [
    "conversations = []\n",
    "for l in open(\"ru.conversations.txt\"):\n",
    "  conversations.append(l)\n",
    "print(conversations[:10])"
   ]
  },
  {
   "cell_type": "code",
   "execution_count": 4,
   "metadata": {
    "colab": {
     "base_uri": "https://localhost:8080/",
     "height": 37
    },
    "id": "67LmPDXBIKrp",
    "outputId": "9fb1f8a7-1898-464a-87b2-71b363778227"
   },
   "outputs": [
    {
     "data": {
      "application/vnd.google.colaboratory.intrinsic+json": {
       "type": "string"
      },
      "text/plain": [
       "'!\"#$%&\\'()*+,-./:;<=>?@[\\\\]^_`{|}~'"
      ]
     },
     "execution_count": 4,
     "metadata": {},
     "output_type": "execute_result"
    }
   ],
   "source": [
    "string.punctuation"
   ]
  },
  {
   "cell_type": "code",
   "execution_count": 5,
   "metadata": {
    "id": "xyinCxfcJTPB"
   },
   "outputs": [],
   "source": [
    "def process_text(text):\n",
    "  return text.translate(str.maketrans('', '', string.punctuation)).strip().lower()"
   ]
  },
  {
   "cell_type": "code",
   "execution_count": 6,
   "metadata": {
    "colab": {
     "base_uri": "https://localhost:8080/"
    },
    "id": "swpa2XxIIwgn",
    "outputId": "851c36c3-69f6-41bd-c379-754b7b809fac"
   },
   "outputs": [
    {
     "data": {
      "text/plain": [
       "['что  мансур  не жарко теперь тебе',\n",
       " 'спрашиваю не жарко ему теперь',\n",
       " 'какой полк',\n",
       " 'тысяча тридцать четвертый',\n",
       " 'вези дальше тут тысяча двадцать шестой',\n",
       " 'какая санрота',\n",
       " 'тысяча тридцать шестая',\n",
       " 'значит наша принимай тяжелораненого',\n",
       " 'сколько фрицев в котле',\n",
       " 'тысяч сорок']"
      ]
     },
     "execution_count": 6,
     "metadata": {},
     "output_type": "execute_result"
    }
   ],
   "source": [
    "# Удаляем всю пунктуацию из текста и замечаем, что в тексте некоторые блоки разговорной речи разделены '\\n' - от этого надо избавиться\n",
    "conversations = [process_text(conversation) for conversation in conversations if conversation != '\\n']\n",
    "conversations[:10]\n"
   ]
  },
  {
   "cell_type": "markdown",
   "metadata": {
    "id": "s7wo5-bEN31i"
   },
   "source": [
    "Конечно, сложно сказать, что это прям разговорный стиль - но лично я буду считать такой текст именно разговорным. Всё-таки, наверное, этот корпус текстов не очень хорошо подходит для данной задачи - можно объяснить тем, что всё-таки в литературе диалоги пишутся скорее в художественном стиле. Но при этом диалог сложно отнести именно к художественному стилю. Поэтому чтобы улучшить обучение модели я, пожалуй, вообще **не буду брать этот датасет** - не думаю, что это разговорный стиль просто"
   ]
  },
  {
   "cell_type": "markdown",
   "metadata": {
    "id": "KGI6rAwfHP4b"
   },
   "source": [
    "Далее можно найти подготовленный корпус русскоязычных твитов с положительной или отрицательной окраской отзыва. Он расположен по ссылке http://study.mokoron.com - мне не удалось найти чего-то лучше в русскоязычном сегменте. Скачиваем датасеты с сайта в формате csv и работаем тут с ними"
   ]
  },
  {
   "cell_type": "code",
   "execution_count": 7,
   "metadata": {
    "colab": {
     "base_uri": "https://localhost:8080/"
    },
    "id": "Lz_G0ARwy0Z0",
    "outputId": "c84930b6-fb6f-4008-feb3-ff647be745d2"
   },
   "outputs": [
    {
     "name": "stdout",
     "output_type": "stream",
     "text": [
      "--2022-01-18 15:41:15--  https://www.dropbox.com/s/6xnz4f0xmgk8b3v/negative.csv?dl=0\n",
      "Resolving www.dropbox.com (www.dropbox.com)... 162.125.65.18, 2620:100:6021:18::a27d:4112\n",
      "Connecting to www.dropbox.com (www.dropbox.com)|162.125.65.18|:443... connected.\n",
      "HTTP request sent, awaiting response... 301 Moved Permanently\n",
      "Location: /s/raw/6xnz4f0xmgk8b3v/negative.csv [following]\n",
      "--2022-01-18 15:41:16--  https://www.dropbox.com/s/raw/6xnz4f0xmgk8b3v/negative.csv\n",
      "Reusing existing connection to www.dropbox.com:443.\n",
      "HTTP request sent, awaiting response... 302 Found\n",
      "Location: https://ucde2cfcfd5e8d86bcf2170e943b.dl.dropboxusercontent.com/cd/0/inline/BeAZfwUkub7-iaVrsoZxc2Fh3agJZWTU0ahU6j3RfRo2US2Zy9NuYXqrDpk9YDa44g0AEbX8z32-RLdCXO5fdFV2Vwb4gwNUy6wPOupMZpA00bWu7RH-C2OxwgXtOFkm4R4PRXrMUHQvPSU8Gg3_gF4a/file# [following]\n",
      "--2022-01-18 15:41:16--  https://ucde2cfcfd5e8d86bcf2170e943b.dl.dropboxusercontent.com/cd/0/inline/BeAZfwUkub7-iaVrsoZxc2Fh3agJZWTU0ahU6j3RfRo2US2Zy9NuYXqrDpk9YDa44g0AEbX8z32-RLdCXO5fdFV2Vwb4gwNUy6wPOupMZpA00bWu7RH-C2OxwgXtOFkm4R4PRXrMUHQvPSU8Gg3_gF4a/file\n",
      "Resolving ucde2cfcfd5e8d86bcf2170e943b.dl.dropboxusercontent.com (ucde2cfcfd5e8d86bcf2170e943b.dl.dropboxusercontent.com)... 162.125.65.15, 2620:100:6021:15::a27d:410f\n",
      "Connecting to ucde2cfcfd5e8d86bcf2170e943b.dl.dropboxusercontent.com (ucde2cfcfd5e8d86bcf2170e943b.dl.dropboxusercontent.com)|162.125.65.15|:443... connected.\n",
      "HTTP request sent, awaiting response... 200 OK\n",
      "Length: 24450101 (23M) [text/plain]\n",
      "Saving to: ‘negative.csv?dl=0’\n",
      "\n",
      "negative.csv?dl=0   100%[===================>]  23.32M  15.4MB/s    in 1.5s    \n",
      "\n",
      "2022-01-18 15:41:18 (15.4 MB/s) - ‘negative.csv?dl=0’ saved [24450101/24450101]\n",
      "\n",
      "--2022-01-18 15:41:18--  https://www.dropbox.com/s/k3wpj7krpzytoky/positive.csv?dl=0\n",
      "Resolving www.dropbox.com (www.dropbox.com)... 162.125.65.18, 2620:100:6021:18::a27d:4112\n",
      "Connecting to www.dropbox.com (www.dropbox.com)|162.125.65.18|:443... connected.\n",
      "HTTP request sent, awaiting response... 301 Moved Permanently\n",
      "Location: /s/raw/k3wpj7krpzytoky/positive.csv [following]\n",
      "--2022-01-18 15:41:19--  https://www.dropbox.com/s/raw/k3wpj7krpzytoky/positive.csv\n",
      "Reusing existing connection to www.dropbox.com:443.\n",
      "HTTP request sent, awaiting response... 302 Found\n",
      "Location: https://uc79188b090d09ebed1b5c6641dd.dl.dropboxusercontent.com/cd/0/inline/BeDCyaYpgRHHWxMNoBbMybF2AyHTpj3fbgO9jkpTl3UZzU0hEcX2CnwfjNCDmC4WSqLxa3zIh0wbUeU-O6luWliZSDdhPjbEZrT80JrroZlEfWUw-5kRY6DvXHT7e-jMRm8xu-xHZuMhXS4_vAnebpfG/file# [following]\n",
      "--2022-01-18 15:41:19--  https://uc79188b090d09ebed1b5c6641dd.dl.dropboxusercontent.com/cd/0/inline/BeDCyaYpgRHHWxMNoBbMybF2AyHTpj3fbgO9jkpTl3UZzU0hEcX2CnwfjNCDmC4WSqLxa3zIh0wbUeU-O6luWliZSDdhPjbEZrT80JrroZlEfWUw-5kRY6DvXHT7e-jMRm8xu-xHZuMhXS4_vAnebpfG/file\n",
      "Resolving uc79188b090d09ebed1b5c6641dd.dl.dropboxusercontent.com (uc79188b090d09ebed1b5c6641dd.dl.dropboxusercontent.com)... 162.125.7.15, 2620:100:6021:15::a27d:410f\n",
      "Connecting to uc79188b090d09ebed1b5c6641dd.dl.dropboxusercontent.com (uc79188b090d09ebed1b5c6641dd.dl.dropboxusercontent.com)|162.125.7.15|:443... connected.\n",
      "HTTP request sent, awaiting response... 200 OK\n",
      "Length: 26233379 (25M) [text/plain]\n",
      "Saving to: ‘positive.csv?dl=0’\n",
      "\n",
      "positive.csv?dl=0   100%[===================>]  25.02M  11.7MB/s    in 2.1s    \n",
      "\n",
      "2022-01-18 15:41:22 (11.7 MB/s) - ‘positive.csv?dl=0’ saved [26233379/26233379]\n",
      "\n"
     ]
    }
   ],
   "source": [
    "!wget https://www.dropbox.com/s/6xnz4f0xmgk8b3v/negative.csv?dl=0\n",
    "!wget https://www.dropbox.com/s/k3wpj7krpzytoky/positive.csv?dl=0"
   ]
  },
  {
   "cell_type": "code",
   "execution_count": 8,
   "metadata": {
    "colab": {
     "base_uri": "https://localhost:8080/"
    },
    "id": "PvENZluv_8vv",
    "outputId": "b5203ebe-3c0b-4266-d8ac-3037b1ab61b3"
   },
   "outputs": [
    {
     "name": "stdout",
     "output_type": "stream",
     "text": [
      "226832\n",
      "114910 111922\n"
     ]
    },
    {
     "data": {
      "text/plain": [
       "0    Да, все-таки он немного похож на него. Но мой ...\n",
       "1    RT @KatiaCheh: Ну ты идиотка) я испугалась за ...\n",
       "2    RT @digger2912: \"Кто то в углу сидит и погибае...\n",
       "3    @irina_dyshkant Вот что значит страшилка :D\\nН...\n",
       "4    ну любишь или нет? — Я не знаю кто ты бля:D ht...\n",
       "5    RT @SpoonLamer: Ох,900 :D ну это конечно же @t...\n",
       "6    RT @veregijytaqo: У тебя есть ухажёр? Нет - мо...\n",
       "7    Поприветствуем моего нового читателя @Alexey17...\n",
       "8    Теперь у меня есть частичка Сиднея :) #Sydney ...\n",
       "9    Люблю маму и папу!!!!а в остальное я так...-вл...\n",
       "dtype: object"
      ]
     },
     "execution_count": 8,
     "metadata": {},
     "output_type": "execute_result"
    }
   ],
   "source": [
    "positive_tweets = pd.read_csv('positive.csv?dl=0', sep=';').iloc[:, 3]\n",
    "negative_tweets = pd.read_csv('negative.csv?dl=0', sep=';').iloc[:, 3]\n",
    "\n",
    "tweets = positive_tweets.append(negative_tweets).dropna()\n",
    "print(len(tweets))\n",
    "print(len(positive_tweets), len(negative_tweets))\n",
    "tweets[:10]"
   ]
  },
  {
   "cell_type": "markdown",
   "metadata": {
    "id": "wJXawJsrP0la"
   },
   "source": [
    "Вот этот датасет действительно уже гораздо больше напоминает разговорную речь. Наверное, на нём и остановимся. Только эти тексты необходимо нормализовать перед использованием. Заметим, что в этом тексте, например, часто встречается комбинация @<nickname> - конечно, достаточно хорошая подсказка для модели, что это будет разговорная речь, но кажется, что все эти пинги в сообщениях можно просто удалить, поскольку иначе модель может переобучиться на наличие таких символов, а они есть практически в каждом предложении. Кроме того, в начале некоторых предложений встречается комбинация \"RT :\" - это ретвиты. Такие штуки тоже можно удалить . Так же можно удалить разные вещи по типу \":D\", \"\\&lt;3\" (это сердечко) и прочие такие. Кроме этого попробуем удалить ссылки, которые любят вставлять - обычно они с протоколом http (или https)"
   ]
  },
  {
   "cell_type": "code",
   "execution_count": 9,
   "metadata": {
    "id": "IKU0YJkPR2cW"
   },
   "outputs": [],
   "source": [
    "def process_tweet(tweet):\n",
    "  result = re.sub(\"@\\w+\", '', tweet)\n",
    "  result = re.sub('RT\\s*:', '', result)\n",
    "  result = re.sub('&lt;3', '', result)\n",
    "  result = re.sub(':D+', '', result)\n",
    "  result = re.sub(\"—\", '', result)\n",
    "  result = re.sub(\"–\", '', result)\n",
    "  result = re.sub(\"“\", '', result)\n",
    "  result = re.sub(\"…\", '', result)\n",
    "  result = re.sub('&gt;', '', result)\n",
    "  result = result.translate(str.maketrans('', '', string.punctuation)).lower()\n",
    "  result = \" \".join([t for t in result.split() if not t.startswith('http')])\n",
    "  return re.sub(\"\\s+\", \" \", result.strip())"
   ]
  },
  {
   "cell_type": "code",
   "execution_count": 10,
   "metadata": {
    "colab": {
     "base_uri": "https://localhost:8080/"
    },
    "id": "k9S1ljMlOFYC",
    "outputId": "b9c746f6-31f0-421a-9695-8d7ef0e2fac8"
   },
   "outputs": [
    {
     "name": "stdout",
     "output_type": "stream",
     "text": [
      "RT @digger2912: \"Кто то в углу сидит и погибает от голода, а мы ещё 2 порции взяли, хотя уже и так жрать не хотим\" :DD http://t.co/GqG6iuE2…\n",
      "кто то в углу сидит и погибает от голода а мы ещё 2 порции взяли хотя уже и так жрать не хотим\n",
      "RT @digger2912: \"Кто то в углу сидит и погибает от голода, а мы ещё 2 порции взяли, хотя уже и так жрать не хотим\" :DD http://t.co/GqG6iuE2…\n"
     ]
    }
   ],
   "source": [
    "# s = \"RT @SpoonLamer: Ох,900 :D ну это конечно же @twinkleAYO . Чтобы у нее было много друзей, ведь она такая мимими &lt;3\"\n",
    "s = 'RT @digger2912: \"Кто то в углу сидит и погибает от голода, а мы ещё 2 порции взяли, хотя уже и так жрать не хотим\" :DD http://t.co/GqG6iuE2…'\n",
    "print(s)\n",
    "print(process_tweet(s))\n",
    "print(s)"
   ]
  },
  {
   "cell_type": "code",
   "execution_count": 11,
   "metadata": {
    "colab": {
     "base_uri": "https://localhost:8080/"
    },
    "id": "te05WGbgRTFD",
    "outputId": "118e0b11-31ec-45b4-fc02-c6a593ebf4fa"
   },
   "outputs": [
    {
     "data": {
      "text/plain": [
       "0         да всетаки он немного похож на него но мой мал...\n",
       "1                        ну ты идиотка я испугалась за тебя\n",
       "2         кто то в углу сидит и погибает от голода а мы ...\n",
       "3         вот что значит страшилка но блинпосмотрев все ...\n",
       "4                    ну любишь или нет я не знаю кто ты бля\n",
       "                                ...                        \n",
       "111917                 но не каждый хочет что то исправлять\n",
       "111918    скучаю так только вправляет мозги но я все рав...\n",
       "111919              вот и в школу в говно это идти уже надо\n",
       "111920                             тауриэль не грусти обнял\n",
       "111921    такси везет меня на работу раздумываю приплати...\n",
       "Length: 211351, dtype: object"
      ]
     },
     "execution_count": 11,
     "metadata": {},
     "output_type": "execute_result"
    }
   ],
   "source": [
    "tweets = tweets.apply(process_tweet).drop_duplicates()\n",
    "tweets"
   ]
  },
  {
   "cell_type": "markdown",
   "metadata": {
    "id": "TmVoicaoa2Zp"
   },
   "source": [
    "Посмотрим теперь на то, какая вообще длина у текста бывает внутри датасета. Нам это понадобится в дальнейшем, когда в других датасетах мы будем выделять тексты"
   ]
  },
  {
   "cell_type": "code",
   "execution_count": 12,
   "metadata": {
    "colab": {
     "base_uri": "https://localhost:8080/",
     "height": 265
    },
    "id": "1PORt5yHa0XT",
    "outputId": "a94701bf-61b2-4065-ac17-af1a3912f153"
   },
   "outputs": [
    {
     "data": {
      "image/png": "[encoded data removed]",
      "text/plain": [
       "<Figure size 432x288 with 1 Axes>"
      ]
     },
     "metadata": {
      "needs_background": "light"
     },
     "output_type": "display_data"
    }
   ],
   "source": [
    "plt.hist(list(map(lambda x: len(x.split()), tweets.values)), bins=np.arange(0, 51))\n",
    "plt.show()"
   ]
  },
  {
   "cell_type": "markdown",
   "metadata": {
    "id": "8GP-MWuXbREk"
   },
   "source": [
    "Видим, что нам надо выделять тексты длин не больше 40 слов. Так в дальнейшем и постараемся делать"
   ]
  },
  {
   "cell_type": "markdown",
   "metadata": {
    "id": "DtNLv2OYbp5m"
   },
   "source": [
    "## Художественный стиль"
   ]
  },
  {
   "cell_type": "markdown",
   "metadata": {
    "id": "ZzBVyjhVc5WM"
   },
   "source": [
    "Тут я решил зайти на сайт lib.ru и посмотреть в раздел \"Русская классика\". Взял произведение А.С.Пушкина \"Дубровский\" - http://lib.ru/LITRA/PUSHKIN/dubrowskij.txt ну и что-нибудь немного иного стиля писания - например, зарубежного Рэй Брэдбери \"Надвигается беда\" http://lib.ru/INOFANT/BRADBURY/beda.txt\n",
    "\n",
    "Весь текст сохраняем внутри textedit, сохраняем в txt формате, убирая лишнии ссылки и прочую ненужную информацию сверху и снизу на странице, а дальше закидываем на dropbox\n",
    "\n",
    "https://www.dropbox.com/s/da4kl939ug2neay/Bredberry.txt?dl=0 - Брэдбери\n",
    "\n",
    "https://www.dropbox.com/s/50jyal1afdhtfm5/Dubrovskiy.txt?dl=0 - Дубровский\n",
    "\n",
    "Таким образом под **художественным стилем я понимаю текст, который написан в художественных произведениях**"
   ]
  },
  {
   "cell_type": "code",
   "execution_count": 13,
   "metadata": {
    "colab": {
     "base_uri": "https://localhost:8080/"
    },
    "id": "-ziMj26hhvrX",
    "outputId": "09c827cb-33bb-4c08-dd63-25b7e43a5e12"
   },
   "outputs": [
    {
     "name": "stdout",
     "output_type": "stream",
     "text": [
      "--2022-01-18 15:41:33--  https://www.dropbox.com/s/da4kl939ug2neay/Bredberry.txt?dl=0\n",
      "Resolving www.dropbox.com (www.dropbox.com)... 162.125.65.18, 2620:100:6022:18::a27d:4212\n",
      "Connecting to www.dropbox.com (www.dropbox.com)|162.125.65.18|:443... connected.\n",
      "HTTP request sent, awaiting response... 301 Moved Permanently\n",
      "Location: /s/raw/da4kl939ug2neay/Bredberry.txt [following]\n",
      "--2022-01-18 15:41:33--  https://www.dropbox.com/s/raw/da4kl939ug2neay/Bredberry.txt\n",
      "Reusing existing connection to www.dropbox.com:443.\n",
      "HTTP request sent, awaiting response... 302 Found\n",
      "Location: https://ucdbe8358c3d8cba90f27132d019.dl.dropboxusercontent.com/cd/0/inline/BeAwDcitoGc0AWRPPTDrUUiMusJd-ceKvNSPv1U-XgD-jiuK1MBVaP25a-SR58Ct0VUlvcy0i468XV5prARzEASXYbXm_oXGzMm5lR15-JXXCMeTaDGKQH1vSu9Sg21-SJAZ9NftQEeJPaJF0XvnpD97/file# [following]\n",
      "--2022-01-18 15:41:34--  https://ucdbe8358c3d8cba90f27132d019.dl.dropboxusercontent.com/cd/0/inline/BeAwDcitoGc0AWRPPTDrUUiMusJd-ceKvNSPv1U-XgD-jiuK1MBVaP25a-SR58Ct0VUlvcy0i468XV5prARzEASXYbXm_oXGzMm5lR15-JXXCMeTaDGKQH1vSu9Sg21-SJAZ9NftQEeJPaJF0XvnpD97/file\n",
      "Resolving ucdbe8358c3d8cba90f27132d019.dl.dropboxusercontent.com (ucdbe8358c3d8cba90f27132d019.dl.dropboxusercontent.com)... 162.125.65.15, 2620:100:6027:15::a27d:480f\n",
      "Connecting to ucdbe8358c3d8cba90f27132d019.dl.dropboxusercontent.com (ucdbe8358c3d8cba90f27132d019.dl.dropboxusercontent.com)|162.125.65.15|:443... connected.\n",
      "HTTP request sent, awaiting response... 200 OK\n",
      "Length: 678224 (662K) [text/plain]\n",
      "Saving to: ‘Bredberry.txt?dl=0’\n",
      "\n",
      "Bredberry.txt?dl=0  100%[===================>] 662.33K  1.09MB/s    in 0.6s    \n",
      "\n",
      "2022-01-18 15:41:35 (1.09 MB/s) - ‘Bredberry.txt?dl=0’ saved [678224/678224]\n",
      "\n"
     ]
    }
   ],
   "source": [
    "!wget https://www.dropbox.com/s/da4kl939ug2neay/Bredberry.txt?dl=0 "
   ]
  },
  {
   "cell_type": "code",
   "execution_count": 14,
   "metadata": {
    "colab": {
     "base_uri": "https://localhost:8080/"
    },
    "id": "waK3IFRxhykJ",
    "outputId": "72910c83-afc4-4ec3-9305-14c0edc08682"
   },
   "outputs": [
    {
     "name": "stdout",
     "output_type": "stream",
     "text": [
      "--2022-01-18 15:41:35--  https://www.dropbox.com/s/50jyal1afdhtfm5/Dubrovskiy.txt?dl=0\n",
      "Resolving www.dropbox.com (www.dropbox.com)... 162.125.65.18, 2620:100:6022:18::a27d:4212\n",
      "Connecting to www.dropbox.com (www.dropbox.com)|162.125.65.18|:443... connected.\n",
      "HTTP request sent, awaiting response... 301 Moved Permanently\n",
      "Location: /s/raw/50jyal1afdhtfm5/Dubrovskiy.txt [following]\n",
      "--2022-01-18 15:41:36--  https://www.dropbox.com/s/raw/50jyal1afdhtfm5/Dubrovskiy.txt\n",
      "Reusing existing connection to www.dropbox.com:443.\n",
      "HTTP request sent, awaiting response... 302 Found\n",
      "Location: https://uce45f13d44d4894b45531ff64d7.dl.dropboxusercontent.com/cd/0/inline/BeDthYvnBsjPNvrthKkgDgxhiPJ1HiWODIpm-GKQaaSlhxO5DbQ5Uycr5na4ZkPHyfVkJ0aua5Rr6sLKHpgXO8UAo5uxmc960BAe4554Rr21-Vioy5xtDc9s2oPQQA5VvOvVwDs1g4NEaPiUgQeUAoYf/file# [following]\n",
      "--2022-01-18 15:41:36--  https://uce45f13d44d4894b45531ff64d7.dl.dropboxusercontent.com/cd/0/inline/BeDthYvnBsjPNvrthKkgDgxhiPJ1HiWODIpm-GKQaaSlhxO5DbQ5Uycr5na4ZkPHyfVkJ0aua5Rr6sLKHpgXO8UAo5uxmc960BAe4554Rr21-Vioy5xtDc9s2oPQQA5VvOvVwDs1g4NEaPiUgQeUAoYf/file\n",
      "Resolving uce45f13d44d4894b45531ff64d7.dl.dropboxusercontent.com (uce45f13d44d4894b45531ff64d7.dl.dropboxusercontent.com)... 162.125.7.15, 2620:100:6021:15::a27d:410f\n",
      "Connecting to uce45f13d44d4894b45531ff64d7.dl.dropboxusercontent.com (uce45f13d44d4894b45531ff64d7.dl.dropboxusercontent.com)|162.125.7.15|:443... connected.\n",
      "HTTP request sent, awaiting response... 200 OK\n",
      "Length: 253320 (247K) [text/plain]\n",
      "Saving to: ‘Dubrovskiy.txt?dl=0’\n",
      "\n",
      "Dubrovskiy.txt?dl=0 100%[===================>] 247.38K   461KB/s    in 0.5s    \n",
      "\n",
      "2022-01-18 15:41:37 (461 KB/s) - ‘Dubrovskiy.txt?dl=0’ saved [253320/253320]\n",
      "\n"
     ]
    }
   ],
   "source": [
    "!wget https://www.dropbox.com/s/50jyal1afdhtfm5/Dubrovskiy.txt?dl=0"
   ]
  },
  {
   "cell_type": "code",
   "execution_count": 15,
   "metadata": {
    "colab": {
     "base_uri": "https://localhost:8080/"
    },
    "id": "gxspPJAddqTn",
    "outputId": "6ba14453-6388-4f72-9c01-55727753f958"
   },
   "outputs": [
    {
     "data": {
      "text/plain": [
       "['     ПРОЛОГ\\n',\n",
       " '     Главное  дело  -  стоял октябрь,  месяц, особенный для  мальчишек. Само\\n',\n",
       " 'собой,  остальные месяцы тоже  не похожи друг на друга, просто, как  говорят\\n',\n",
       " 'пираты, одни получше, другие похуже. Взять вот сентябрь - плохой месяц: надо\\n',\n",
       " 'в школу идти. Август не в пример лучше - до школы еще не близко.\\n',\n",
       " '     Июль - ну, июль замечательный: куда ни глянь, на школу и намека нет. Ну\\n',\n",
       " 'а уж июнь лучше  всех: школьные  двери  нараспашку, а  до сентября - миллион\\n',\n",
       " 'лет.\\n',\n",
       " '     А  теперь  взять  октябрь. Уже месяц, как началась школьная тягомотина,\\n',\n",
       " 'значит, к узде пообвык, и дальше пойдет легче.\\n']"
      ]
     },
     "execution_count": 15,
     "metadata": {},
     "output_type": "execute_result"
    }
   ],
   "source": [
    "bredbery = []\n",
    "for l in open(\"Bredberry.txt?dl=0\"):\n",
    "  bredbery.append(l)\n",
    "bredbery[:10]"
   ]
  },
  {
   "cell_type": "code",
   "execution_count": 16,
   "metadata": {
    "colab": {
     "base_uri": "https://localhost:8080/"
    },
    "id": "uBehUYmyh8rA",
    "outputId": "fc527d3a-1418-44e2-de7c-13bed061aea6"
   },
   "outputs": [
    {
     "data": {
      "text/plain": [
       "['\\n',\n",
       " '\\t•\\t * ТОМ ПЕРВЫЙ * \\n',\n",
       " '\\n',\n",
       " '\\n',\n",
       " '\\t•\\tГЛАВА 1.\\n',\n",
       " '\\n',\n",
       " '     Несколько  лет  тому  назад  в  одном  из своих  поместий жил старинный\\n',\n",
       " 'русской барин, Кирила Петрович Троекуров. Его богатство, знатный род и связи\\n',\n",
       " 'давали ему большой вес в губерниях, где  находилось его имение.  Соседи рады\\n',\n",
       " 'были угождать малейшим его прихотям; губернские чиновники трепетали  при его\\n']"
      ]
     },
     "execution_count": 16,
     "metadata": {},
     "output_type": "execute_result"
    }
   ],
   "source": [
    "dubrovskiy = []\n",
    "for l in open(\"Dubrovskiy.txt?dl=0\"):\n",
    "  dubrovskiy.append(l)\n",
    "dubrovskiy[:10]\n"
   ]
  },
  {
   "cell_type": "markdown",
   "metadata": {
    "id": "a50mcNrbiSKm"
   },
   "source": [
    "Теперь эти тексты надо немного преобразовать, чтобы с ними можно было нормально работать. Для начала избавимся от обозначений глав, томов и прочего такого - обычно это слова, которые полностью состоят из больших букв"
   ]
  },
  {
   "cell_type": "code",
   "execution_count": 17,
   "metadata": {
    "colab": {
     "base_uri": "https://localhost:8080/"
    },
    "id": "XG1HlfeFdrkQ",
    "outputId": "3d8ab670-2297-4c9b-9685-153b1e1547aa"
   },
   "outputs": [
    {
     "data": {
      "text/plain": [
       "['     Главное  дело  -  стоял октябрь,  месяц, особенный для  мальчишек. Само\\n',\n",
       " 'собой,  остальные месяцы тоже  не похожи друг на друга, просто, как  говорят\\n',\n",
       " 'пираты, одни получше, другие похуже. Взять вот сентябрь - плохой месяц: надо\\n',\n",
       " 'в школу идти. Август не в пример лучше - до школы еще не близко.\\n',\n",
       " '     Июль - ну, июль замечательный: куда ни глянь, на школу и намека нет. Ну\\n']"
      ]
     },
     "execution_count": 17,
     "metadata": {},
     "output_type": "execute_result"
    }
   ],
   "source": [
    "bredbery = [elem for elem in bredbery if elem.upper() != elem]\n",
    "bredbery[:5]"
   ]
  },
  {
   "cell_type": "code",
   "execution_count": 18,
   "metadata": {
    "colab": {
     "base_uri": "https://localhost:8080/"
    },
    "id": "1szCxFm8jPMP",
    "outputId": "ebedc547-482a-46e7-e392-a2c9f9a10dd5"
   },
   "outputs": [
    {
     "data": {
      "text/plain": [
       "['     Несколько  лет  тому  назад  в  одном  из своих  поместий жил старинный\\n',\n",
       " 'русской барин, Кирила Петрович Троекуров. Его богатство, знатный род и связи\\n',\n",
       " 'давали ему большой вес в губерниях, где  находилось его имение.  Соседи рады\\n',\n",
       " 'были угождать малейшим его прихотям; губернские чиновники трепетали  при его\\n',\n",
       " 'имени;  Кирила  Петрович принимал знаки  подобострастия как надлежащую дань;\\n']"
      ]
     },
     "execution_count": 18,
     "metadata": {},
     "output_type": "execute_result"
    }
   ],
   "source": [
    "dubrovskiy = [elem for elem in dubrovskiy if elem != elem.upper()]\n",
    "dubrovskiy[:5]"
   ]
  },
  {
   "cell_type": "code",
   "execution_count": 19,
   "metadata": {
    "colab": {
     "base_uri": "https://localhost:8080/",
     "height": 54
    },
    "id": "kw6UTWzujye_",
    "outputId": "c0fb0dac-db4b-4077-cd89-572d62bf8d84"
   },
   "outputs": [
    {
     "data": {
      "application/vnd.google.colaboratory.intrinsic+json": {
       "type": "string"
      },
      "text/plain": [
       "'Главное  дело  -  стоял октябрь,  месяц, особенный для  мальчишек. Само собой,  остальные месяцы тоже  не похожи друг на друга, просто, как  говорят пираты, одни получше, другие похуже. Взять вот сент'"
      ]
     },
     "execution_count": 19,
     "metadata": {},
     "output_type": "execute_result"
    }
   ],
   "source": [
    "bredbery_text = \" \".join([elem.strip() for elem in bredbery])\n",
    "bredbery_text[:200]"
   ]
  },
  {
   "cell_type": "code",
   "execution_count": 20,
   "metadata": {
    "colab": {
     "base_uri": "https://localhost:8080/",
     "height": 54
    },
    "id": "uJqyVXgNkrwo",
    "outputId": "b6b6992f-c57c-4cf9-f4ca-daf9bbfe4621"
   },
   "outputs": [
    {
     "data": {
      "application/vnd.google.colaboratory.intrinsic+json": {
       "type": "string"
      },
      "text/plain": [
       "'Несколько  лет  тому  назад  в  одном  из своих  поместий жил старинный русской барин, Кирила Петрович Троекуров. Его богатство, знатный род и связи давали ему большой вес в губерниях, где  находилось'"
      ]
     },
     "execution_count": 20,
     "metadata": {},
     "output_type": "execute_result"
    }
   ],
   "source": [
    "dubrovskiy_text = \" \".join([elem.strip() for elem in dubrovskiy])\n",
    "dubrovskiy_text[:200]"
   ]
  },
  {
   "cell_type": "markdown",
   "metadata": {
    "id": "3BXUQT66lsPo"
   },
   "source": [
    "Как человек определяет, является ли текст художественным. В целом, для этого ему не обязательно, чтобы текст начинался с начала какого-то предложения - мы умеем читать текст с середины предложения и оценивать, является ли это художественным произведением, или нет. \n",
    "\n",
    "Таким образом, нас в целом устраивает какие-то последовательности слов внутри текста. При этом сами слова уже обрезать нельзя, поскольку в таком случае мы передадим на вход какой-то текст, который потенциально будет содержать два новых, на самом деле несуществующих слова - в начале и в конце предложения\n",
    "\n",
    "Подпоследовательности будем выбирать согласованно с диаграммой, которая была изображена в датасете с твитами. А именно - мы будем генерировать последовательности слов длины не больше 40. При этом, чтобы не было совсем коротких тексов, по которым действительно сложно что-то понять, мы будем выделять тексты длины хотя бы от 5 слов. Ну а чтобы внести некоторую случайность в построение, чтобы сделать модель устойчивее, мы будем генерировать последовательности случайных длин (получается, от 5 до 40)\n",
    "\n",
    "Но изначально необходимо преобразовать текст. При этом преобразовывать мы его будем той же функцией, что и преобразовывали твиты. Делается это потому что мы при использовании модели не будем знать, какой объект нам приходит, и его надо обрабатывать таким же образом, что и другие. Поэтому в скрипте, который будет угадывать тематику, мы тоже будем использовать функцию `process_tweet`"
   ]
  },
  {
   "cell_type": "code",
   "execution_count": 21,
   "metadata": {
    "colab": {
     "base_uri": "https://localhost:8080/",
     "height": 54
    },
    "id": "pAnLQf4JneDe",
    "outputId": "44ecbb46-caad-4ed3-b403-ffc10ec2b25e"
   },
   "outputs": [
    {
     "data": {
      "application/vnd.google.colaboratory.intrinsic+json": {
       "type": "string"
      },
      "text/plain": [
       "'главное дело стоял октябрь месяц особенный для мальчишек само собой остальные месяцы тоже не похожи друг на друга просто как говорят пираты одни получше другие похуже взять вот сентябрь плохой месяц н'"
      ]
     },
     "execution_count": 21,
     "metadata": {},
     "output_type": "execute_result"
    }
   ],
   "source": [
    "bredbery_text = process_tweet(bredbery_text)\n",
    "bredbery_text[:200]"
   ]
  },
  {
   "cell_type": "code",
   "execution_count": 22,
   "metadata": {
    "colab": {
     "base_uri": "https://localhost:8080/",
     "height": 54
    },
    "id": "d7kwOpEevR4Z",
    "outputId": "74f48405-90ea-4354-f393-556ed93c24bd"
   },
   "outputs": [
    {
     "data": {
      "application/vnd.google.colaboratory.intrinsic+json": {
       "type": "string"
      },
      "text/plain": [
       "'несколько лет тому назад в одном из своих поместий жил старинный русской барин кирила петрович троекуров его богатство знатный род и связи давали ему большой вес в губерниях где находилось его имение '"
      ]
     },
     "execution_count": 22,
     "metadata": {},
     "output_type": "execute_result"
    }
   ],
   "source": [
    "dubrovskiy_text = process_tweet(dubrovskiy_text)\n",
    "dubrovskiy_text[:200]"
   ]
  },
  {
   "cell_type": "code",
   "execution_count": 23,
   "metadata": {
    "colab": {
     "base_uri": "https://localhost:8080/"
    },
    "id": "CBPptYjPvuE2",
    "outputId": "2c33a4a1-ac57-429e-8290-ffbd6d735479"
   },
   "outputs": [
    {
     "name": "stdout",
     "output_type": "stream",
     "text": [
      "55108\n",
      "20554\n"
     ]
    }
   ],
   "source": [
    "bredbery_text = bredbery_text.split()\n",
    "print(len(bredbery_text))\n",
    "dubrovskiy_text = dubrovskiy_text.split()\n",
    "print(len(dubrovskiy_text))"
   ]
  },
  {
   "cell_type": "code",
   "execution_count": 24,
   "metadata": {
    "colab": {
     "base_uri": "https://localhost:8080/"
    },
    "id": "H3MYDP27pK7g",
    "outputId": "7f070daf-62e2-40cf-f0a5-66f0d24a785a"
   },
   "outputs": [
    {
     "name": "stdout",
     "output_type": "stream",
     "text": [
      "16310\n"
     ]
    },
    {
     "data": {
      "text/plain": [
       "['главное дело стоял октябрь месяц особенный для мальчишек само собой остальные месяцы тоже не',\n",
       " 'месяц особенный для мальчишек само собой остальные месяцы тоже не похожи друг на друга просто как говорят пираты одни получше',\n",
       " 'остальные месяцы тоже не похожи друг на друга просто как говорят пираты одни получше другие похуже взять вот сентябрь плохой месяц надо в школу идти август не в пример',\n",
       " 'не похожи друг на друга просто как говорят пираты одни получше другие похуже взять вот',\n",
       " 'на друга просто как говорят пираты одни получше другие похуже взять вот сентябрь плохой месяц надо в школу идти август не в пример лучше до школы еще не',\n",
       " 'пираты одни получше другие похуже взять вот сентябрь плохой месяц надо в школу идти август не в пример лучше до школы еще не близко июль ну',\n",
       " 'взять вот сентябрь плохой месяц надо в школу идти август не в пример лучше до школы еще не близко июль ну июль замечательный куда ни глянь на школу и намека нет ну а уж июнь лучше всех',\n",
       " 'в школу идти август не в пример лучше до школы еще не близко июль ну июль замечательный куда ни глянь на школу и намека нет ну а уж июнь лучше всех школьные',\n",
       " 'не в пример лучше до школы еще не близко июль ну июль замечательный куда ни глянь на школу и намека нет ну а уж июнь лучше всех школьные двери нараспашку а до сентября миллион лет',\n",
       " 'лучше до школы еще не близко июль ну июль замечательный куда ни глянь на школу и намека нет ну']"
      ]
     },
     "execution_count": 24,
     "metadata": {},
     "output_type": "execute_result"
    }
   ],
   "source": [
    "cur_word = 0\n",
    "fiction = []\n",
    "while cur_word < len(bredbery_text):\n",
    "  saved_cur_word = cur_word\n",
    "  max_length = int(np.random.uniform(5, 40))\n",
    "  cur_text = \" \".join(bredbery_text[cur_word:min(len(bredbery_text), cur_word + max_length)])\n",
    "  if len(cur_text.split()) > 5:\n",
    "    fiction.append(cur_text)\n",
    "  cur_word = saved_cur_word + int(np.random.uniform(3, 7))\n",
    "cur_word = 0\n",
    "while cur_word < len(dubrovskiy_text):\n",
    "  saved_cur_word = cur_word\n",
    "  max_length = int(np.random.uniform(5, 40))\n",
    "  cur_text = \" \".join(dubrovskiy_text[cur_word:min(len(dubrovskiy_text), cur_word + max_length)])\n",
    "  if len(cur_text.split()) > 5:\n",
    "    fiction.append(cur_text)\n",
    "  cur_word = saved_cur_word + int(np.random.uniform(3, 7))\n",
    "\n",
    "print(len(fiction))\n",
    "fiction[:10]"
   ]
  },
  {
   "cell_type": "markdown",
   "metadata": {
    "id": "Ns_KaFh6t9Q9"
   },
   "source": [
    "Итак, мы рассмотрели два датасета. Теперь осталось добавить к ним последний датасет - датасет технической литературы "
   ]
  },
  {
   "cell_type": "markdown",
   "metadata": {
    "id": "JrcrNKpzyvge"
   },
   "source": [
    "## Технический стиль"
   ]
  },
  {
   "cell_type": "markdown",
   "metadata": {
    "id": "n48mEFNG1X5w"
   },
   "source": [
    "В целом, тут можно использовать совершенно разные источники. Можно брать инструкции по эксплуатации, различные патенты\n",
    "\n",
    "Я нашел в интернете хороший датасет - датасет статей из NIPS. https://www.kaggle.com/benhamner/nips-papers?select=papers.csv. Он достаточно хороший, там достаточно много разнообразных статей. Можно брать различные другие датасеты - например, текст дипломных работ или диссертаций, поскольку обычно они пишутся в соответствии с различными правилами ГОСТов в техническом стиле\n",
    "\n",
    "Я же возьму выполненную в 2021 году (и защищенную!) моим братом кандидатскую диссертацию в качестве данных по технической литературе. Удалю по максимуму всякие вещи, которые не текстовые (формулы и прочее) и после этого запихну на дропбокс. После чего почищу их соответствующим образом, как и предыдущие данные - и наконец получу все части датасета. **Таким образом, под техническим стилем я буду понимать текст, который написан по технической тематике в соответствиями с требованиями ГОСТа, а именно - тексты дипломных, курсовых работ**"
   ]
  },
  {
   "cell_type": "code",
   "execution_count": 25,
   "metadata": {
    "colab": {
     "base_uri": "https://localhost:8080/"
    },
    "id": "ljGNVYdb5lwZ",
    "outputId": "36f5efac-05ec-474c-e68a-362b9dfb6f13"
   },
   "outputs": [
    {
     "name": "stdout",
     "output_type": "stream",
     "text": [
      "--2022-01-18 15:41:42--  https://www.dropbox.com/s/3fuqdwyx5ie8z06/%D0%94%D0%B8%D1%81%D1%81%D0%B5%D1%80%D1%82%D0%B0%D1%86%D0%B8%D1%8F.txt?dl=0\n",
      "Resolving www.dropbox.com (www.dropbox.com)... 162.125.66.18, 2620:100:6021:18::a27d:4112\n",
      "Connecting to www.dropbox.com (www.dropbox.com)|162.125.66.18|:443... connected.\n",
      "HTTP request sent, awaiting response... 301 Moved Permanently\n",
      "Location: /s/raw/3fuqdwyx5ie8z06/%D0%94%D0%B8%D1%81%D1%81%D0%B5%D1%80%D1%82%D0%B0%D1%86%D0%B8%D1%8F.txt [following]\n",
      "--2022-01-18 15:41:42--  https://www.dropbox.com/s/raw/3fuqdwyx5ie8z06/%D0%94%D0%B8%D1%81%D1%81%D0%B5%D1%80%D1%82%D0%B0%D1%86%D0%B8%D1%8F.txt\n",
      "Reusing existing connection to www.dropbox.com:443.\n",
      "HTTP request sent, awaiting response... 302 Found\n",
      "Location: https://uc6f609c7487bb2c5739cbfce1c4.dl.dropboxusercontent.com/cd/0/inline/BeDcYxGy4gax4jc29UghTDvjOyquUZK79iX6zPORzzCas4VzMDEo-4OaukcZXbolw1nllrpyu8rO-qjBogSleo_RA0BTxbyBvzZGdj_6zeYcyiaLMeyNhABI6EoCv9HtLmxpYLWhenSwQorku_L0vkyW/file# [following]\n",
      "--2022-01-18 15:41:42--  https://uc6f609c7487bb2c5739cbfce1c4.dl.dropboxusercontent.com/cd/0/inline/BeDcYxGy4gax4jc29UghTDvjOyquUZK79iX6zPORzzCas4VzMDEo-4OaukcZXbolw1nllrpyu8rO-qjBogSleo_RA0BTxbyBvzZGdj_6zeYcyiaLMeyNhABI6EoCv9HtLmxpYLWhenSwQorku_L0vkyW/file\n",
      "Resolving uc6f609c7487bb2c5739cbfce1c4.dl.dropboxusercontent.com (uc6f609c7487bb2c5739cbfce1c4.dl.dropboxusercontent.com)... 162.125.65.15, 2620:100:6027:15::a27d:480f\n",
      "Connecting to uc6f609c7487bb2c5739cbfce1c4.dl.dropboxusercontent.com (uc6f609c7487bb2c5739cbfce1c4.dl.dropboxusercontent.com)|162.125.65.15|:443... connected.\n",
      "HTTP request sent, awaiting response... 200 OK\n",
      "Length: 828018 (809K) [text/plain]\n",
      "Saving to: ‘Диссертация.txt?dl=0’\n",
      "\n",
      "Диссертация.txt?dl= 100%[===================>] 808.61K  1.71MB/s    in 0.5s    \n",
      "\n",
      "2022-01-18 15:41:44 (1.71 MB/s) - ‘Диссертация.txt?dl=0’ saved [828018/828018]\n",
      "\n"
     ]
    }
   ],
   "source": [
    "!wget https://www.dropbox.com/s/3fuqdwyx5ie8z06/%D0%94%D0%B8%D1%81%D1%81%D0%B5%D1%80%D1%82%D0%B0%D1%86%D0%B8%D1%8F.txt?dl=0"
   ]
  },
  {
   "cell_type": "code",
   "execution_count": 26,
   "metadata": {
    "colab": {
     "base_uri": "https://localhost:8080/"
    },
    "id": "y2PnCy0180MN",
    "outputId": "49472ddd-aeaf-47b9-dd95-0596ad2f6dec"
   },
   "outputs": [
    {
     "data": {
      "text/plain": [
       "['ГЛАВА 1. Анализ существующих подходов к автоматическому обнаружению аритмий по сигналу ЭКГ\\t22\\n',\n",
       " '1.1 Этапы автоматического анализа сигнала ЭКГ\\t22\\n',\n",
       " '1.2 Методы первичной обработки сигнала ЭКГ\\t25\\n',\n",
       " '1.3 Существующие подходы к признаковому описанию сигнала ЭКГ\\t33\\n',\n",
       " '1.4 Анализ подходов к автоматическому распознаванию аритмий\\t42\\n',\n",
       " '1.4.1 Исходные данные для распознавания аритмий по сигналу ЭКГ\\t42\\n',\n",
       " '1.4.2 Методы автоматического распознавания аритмий\\t48\\n',\n",
       " '1.5 Направления развития моделей, методов и признаковых описаний сигнала ЭКГ для автоматического распознавания аритмий\\t68\\n',\n",
       " '1.5.1 Общая характеристика состояния предметной области  автоматического распознавания аритмий\\t68\\n',\n",
       " '1.5.2 Проблемы существующих подходов к автоматическому  распознаванию аритмий\\t72\\n']"
      ]
     },
     "execution_count": 26,
     "metadata": {},
     "output_type": "execute_result"
    }
   ],
   "source": [
    "dissertation = []\n",
    "for l in open(\"Диссертация.txt?dl=0\"):\n",
    "  dissertation.append(l)\n",
    "dissertation = dissertation[3:]\n",
    "dissertation[:10]"
   ]
  },
  {
   "cell_type": "code",
   "execution_count": 27,
   "metadata": {
    "colab": {
     "base_uri": "https://localhost:8080/",
     "height": 54
    },
    "id": "sb8jEwHB8-R1",
    "outputId": "8e7d00d2-4750-486e-bb74-5abb2a3032f7"
   },
   "outputs": [
    {
     "data": {
      "application/vnd.google.colaboratory.intrinsic+json": {
       "type": "string"
      },
      "text/plain": [
       "'глава 1 анализ существующих подходов к автоматическому обнаружению аритмий по сигналу экг 22 11 этапы автоматического анализа сигнала экг 22 12 методы первичной обработки сигнала экг 25 13 существующи'"
      ]
     },
     "execution_count": 27,
     "metadata": {},
     "output_type": "execute_result"
    }
   ],
   "source": [
    "dissertation_text = \" \".join([elem.strip() for elem in dissertation])\n",
    "dissertation_text = process_tweet(dissertation_text)\n",
    "dissertation_text[:200]"
   ]
  },
  {
   "cell_type": "code",
   "execution_count": 28,
   "metadata": {
    "colab": {
     "base_uri": "https://localhost:8080/"
    },
    "id": "qAyl3-z593jY",
    "outputId": "e3aa1fba-6459-41fe-8582-05da7e16ed0d"
   },
   "outputs": [
    {
     "data": {
      "text/plain": [
       "63368"
      ]
     },
     "execution_count": 28,
     "metadata": {},
     "output_type": "execute_result"
    }
   ],
   "source": [
    "dissertation_text = dissertation_text.split()\n",
    "len(dissertation_text)"
   ]
  },
  {
   "cell_type": "code",
   "execution_count": 29,
   "metadata": {
    "colab": {
     "base_uri": "https://localhost:8080/"
    },
    "id": "giqqtVGJ9-OS",
    "outputId": "29e05cd5-cdd6-4f35-eb85-2b048d3411f2"
   },
   "outputs": [
    {
     "name": "stdout",
     "output_type": "stream",
     "text": [
      "13698\n"
     ]
    },
    {
     "data": {
      "text/plain": [
       "['глава 1 анализ существующих подходов к автоматическому обнаружению аритмий по сигналу экг 22 11 этапы автоматического анализа сигнала экг 22 12 методы первичной обработки сигнала экг 25 13 существующие подходы к признаковому описанию сигнала экг 33 14',\n",
       " 'подходов к автоматическому обнаружению аритмий по сигналу экг 22 11 этапы автоматического анализа сигнала экг 22 12 методы первичной обработки сигнала экг 25 13 существующие подходы к признаковому описанию сигнала экг 33 14 анализ подходов',\n",
       " 'обнаружению аритмий по сигналу экг 22 11 этапы автоматического анализа сигнала экг 22 12 методы первичной',\n",
       " '11 этапы автоматического анализа сигнала экг 22 12 методы первичной обработки сигнала экг 25 13 существующие подходы к признаковому описанию сигнала экг 33 14 анализ подходов к автоматическому',\n",
       " 'экг 22 12 методы первичной обработки сигнала экг 25 13 существующие подходы к признаковому описанию сигнала экг 33 14 анализ подходов',\n",
       " 'обработки сигнала экг 25 13 существующие подходы к признаковому описанию сигнала экг 33 14 анализ подходов к автоматическому распознаванию аритмий',\n",
       " '25 13 существующие подходы к признаковому описанию сигнала экг 33 14 анализ подходов к автоматическому распознаванию аритмий 42 141 исходные',\n",
       " 'признаковому описанию сигнала экг 33 14 анализ подходов к автоматическому распознаванию аритмий 42 141 исходные данные для распознавания аритмий по сигналу экг 42 142 методы автоматического',\n",
       " '42 141 исходные данные для распознавания аритмий',\n",
       " 'для распознавания аритмий по сигналу экг 42 142 методы автоматического распознавания аритмий 48 15 направления развития моделей методов и признаковых описаний сигнала экг для автоматического распознавания аритмий 68 151 общая характеристика состояния предметной области автоматического распознавания аритмий 68 152']"
      ]
     },
     "execution_count": 29,
     "metadata": {},
     "output_type": "execute_result"
    }
   ],
   "source": [
    "cur_word = 0\n",
    "tech_litra = []\n",
    "while cur_word < len(dissertation_text):\n",
    "  saved_cur_word = cur_word\n",
    "  max_length = int(np.random.uniform(5, 40))\n",
    "  cur_text = \" \".join(dissertation_text[cur_word:min(len(dissertation_text), cur_word + max_length)])\n",
    "  if len(cur_text.split()) > 5:\n",
    "    tech_litra.append(cur_text)\n",
    "  cur_word = saved_cur_word + int(np.random.uniform(3, 7))\n",
    "print(len(tech_litra))\n",
    "tech_litra[:10]"
   ]
  },
  {
   "cell_type": "markdown",
   "metadata": {
    "id": "jSR9j4lb-jrJ"
   },
   "source": [
    "## Объединение датасетов и подготовка данных для обучения и классификации"
   ]
  },
  {
   "cell_type": "markdown",
   "metadata": {
    "id": "hpvrr0WHeX0j"
   },
   "source": [
    "Теперь у нас имеются датасеты по всем трём тематикам. При генерации датасетов для оценки качества и обучения модели мы будем пользоваться ими всеми"
   ]
  },
  {
   "cell_type": "code",
   "execution_count": 30,
   "metadata": {
    "colab": {
     "base_uri": "https://localhost:8080/"
    },
    "id": "-7Rvs89b-YNN",
    "outputId": "147924fd-1596-43e8-9d56-c35cf392e5a6"
   },
   "outputs": [
    {
     "name": "stdout",
     "output_type": "stream",
     "text": [
      "13698\n"
     ]
    },
    {
     "data": {
      "text/plain": [
       "['глава 1 анализ существующих подходов к автоматическому обнаружению аритмий по сигналу экг 22 11 этапы автоматического анализа сигнала экг 22 12 методы первичной обработки сигнала экг 25 13 существующие подходы к признаковому описанию сигнала экг 33 14',\n",
       " 'подходов к автоматическому обнаружению аритмий по сигналу экг 22 11 этапы автоматического анализа сигнала экг 22 12 методы первичной обработки сигнала экг 25 13 существующие подходы к признаковому описанию сигнала экг 33 14 анализ подходов',\n",
       " 'обнаружению аритмий по сигналу экг 22 11 этапы автоматического анализа сигнала экг 22 12 методы первичной',\n",
       " '11 этапы автоматического анализа сигнала экг 22 12 методы первичной обработки сигнала экг 25 13 существующие подходы к признаковому описанию сигнала экг 33 14 анализ подходов к автоматическому',\n",
       " 'экг 22 12 методы первичной обработки сигнала экг 25 13 существующие подходы к признаковому описанию сигнала экг 33 14 анализ подходов']"
      ]
     },
     "execution_count": 30,
     "metadata": {},
     "output_type": "execute_result"
    }
   ],
   "source": [
    "print(len(tech_litra))\n",
    "tech_litra[:5]"
   ]
  },
  {
   "cell_type": "code",
   "execution_count": 31,
   "metadata": {
    "colab": {
     "base_uri": "https://localhost:8080/"
    },
    "id": "2XdO4h7A-usU",
    "outputId": "75d84d2d-6201-409c-b161-8dde7ea7d65d"
   },
   "outputs": [
    {
     "name": "stdout",
     "output_type": "stream",
     "text": [
      "16310\n"
     ]
    },
    {
     "data": {
      "text/plain": [
       "['главное дело стоял октябрь месяц особенный для мальчишек само собой остальные месяцы тоже не',\n",
       " 'месяц особенный для мальчишек само собой остальные месяцы тоже не похожи друг на друга просто как говорят пираты одни получше',\n",
       " 'остальные месяцы тоже не похожи друг на друга просто как говорят пираты одни получше другие похуже взять вот сентябрь плохой месяц надо в школу идти август не в пример',\n",
       " 'не похожи друг на друга просто как говорят пираты одни получше другие похуже взять вот',\n",
       " 'на друга просто как говорят пираты одни получше другие похуже взять вот сентябрь плохой месяц надо в школу идти август не в пример лучше до школы еще не']"
      ]
     },
     "execution_count": 31,
     "metadata": {},
     "output_type": "execute_result"
    }
   ],
   "source": [
    "print(len(fiction))\n",
    "fiction[:5]"
   ]
  },
  {
   "cell_type": "code",
   "execution_count": 32,
   "metadata": {
    "colab": {
     "base_uri": "https://localhost:8080/"
    },
    "id": "rWRU3uqa-xex",
    "outputId": "84ff4c7a-1942-43ed-89de-7a6484da20b9"
   },
   "outputs": [
    {
     "name": "stdout",
     "output_type": "stream",
     "text": [
      "211351\n"
     ]
    },
    {
     "data": {
      "text/plain": [
       "array(['да всетаки он немного похож на него но мой мальчик все равно лучше',\n",
       "       'ну ты идиотка я испугалась за тебя',\n",
       "       'кто то в углу сидит и погибает от голода а мы ещё 2 порции взяли хотя уже и так жрать не хотим',\n",
       "       'вот что значит страшилка но блинпосмотрев все частиу тебя создастся ощущениечто авторы курили чтото',\n",
       "       'ну любишь или нет я не знаю кто ты бля'], dtype=object)"
      ]
     },
     "execution_count": 32,
     "metadata": {},
     "output_type": "execute_result"
    }
   ],
   "source": [
    "tweets = tweets.values\n",
    "print(len(tweets))\n",
    "tweets[:5]"
   ]
  },
  {
   "cell_type": "markdown",
   "metadata": {
    "id": "2Z70t5Kj--Vh"
   },
   "source": [
    "Видим, что мы собрали слишком много объектов класса разговорной речи. Если ничего не сделать, то у нас будет сильное классовое неравенство в выборке. По этой причине необходимо сделать датасеты хотя бы немного более похожими по размеру\n",
    "\n",
    "Итак, нам нужно будет сделать обучение и test. Сделаем две вещи: \n",
    "\n",
    "Обучающую выборку мы соберем в любом случае равномерную (то есть классов будет поровну), и предлагаю использовать по 10к примеров каждого класса внутри обучающей выборки - итого, размер обучающей выборки будет 30к\n",
    "\n",
    "Тестовая выборка - это равномерная выборка из объектов, которые не вошли в обучение. Предлагаю использовать по 2к объектов из каждого класса. Так, размер тестовой выборки будет 6к. \n",
    "\n",
    "И для будущих целей, о которых станет известно несколько позднее, мы заведем еще и валидационную выборку. Это будет еще 1к объектов каждого класса\n"
   ]
  },
  {
   "cell_type": "code",
   "execution_count": 37,
   "metadata": {
    "id": "dUjNiBvt-8d4"
   },
   "outputs": [],
   "source": [
    "permutation_indices_tech = np.random.permutation(len(tech_litra))[:13000]\n",
    "train_indices_tech = permutation_indices_tech[:10000]\n",
    "test_indices_tech = permutation_indices_tech[10000:12000]\n",
    "val_indices_tech = permutation_indices_tech[12000:]\n",
    "\n",
    "permutation_indices_convers = np.random.permutation(len(tweets))[:13000]\n",
    "train_indices_convers = permutation_indices_convers[:10000]\n",
    "test_indices_convers = permutation_indices_convers[10000:12000]\n",
    "val_indices_convers = permutation_indices_convers[12000:]\n",
    "\n",
    "permutation_indices_fiction = np.random.permutation(len(fiction))[:13000]\n",
    "train_indices_fiction = permutation_indices_fiction[:10000]\n",
    "test_indices_fiction = permutation_indices_fiction[10000:12000]\n",
    "val_indices_fiction = permutation_indices_fiction[12000:]\n"
   ]
  },
  {
   "cell_type": "code",
   "execution_count": 38,
   "metadata": {
    "id": "w3XvJ--xAk82"
   },
   "outputs": [],
   "source": [
    "# генерация train данных - для обучения\n",
    "train_dataset = []\n",
    "for idx in train_indices_convers:\n",
    "  train_dataset.append((tweets[idx], 0))\n",
    "for idx in train_indices_fiction:\n",
    "  train_dataset.append((fiction[idx], 1))\n",
    "for idx in train_indices_tech:\n",
    "  train_dataset.append((tech_litra[idx], 2))\n",
    "\n",
    "# генерация test данных - для тестирования\n",
    "test_dataset = []\n",
    "for idx in test_indices_convers:\n",
    "  test_dataset.append((tweets[idx], 0))\n",
    "for idx in test_indices_fiction:\n",
    "  test_dataset.append((fiction[idx], 1))\n",
    "for idx in test_indices_tech:\n",
    "  test_dataset.append((tech_litra[idx], 2))\n",
    "\n",
    "val_dataset = []\n",
    "for idx in val_indices_convers:\n",
    "  val_dataset.append((tweets[idx], 0))\n",
    "for idx in val_indices_fiction:\n",
    "  val_dataset.append((fiction[idx], 1))\n",
    "for idx in val_indices_tech:\n",
    "  val_dataset.append((tech_litra[idx], 2))\n",
    "\n",
    "np.random.shuffle(train_dataset)\n",
    "np.random.shuffle(test_dataset)\n",
    "np.random.shuffle(val_dataset)\n",
    "\n",
    "train_dataset = pd.DataFrame({\"text\": [elem[0] for elem in train_dataset], \"target\": [elem[1] for elem in train_dataset]})\n",
    "test_dataset = pd.DataFrame({\"text\": [elem[0] for elem in test_dataset], \"target\": [elem[1] for elem in test_dataset]})\n",
    "val_dataset = pd.DataFrame({\"text\": [elem[0] for elem in val_dataset], \"target\": [elem[1] for elem in val_dataset]})\n"
   ]
  },
  {
   "cell_type": "code",
   "execution_count": 39,
   "metadata": {
    "colab": {
     "base_uri": "https://localhost:8080/",
     "height": 204
    },
    "id": "BEdtsm77B9kS",
    "outputId": "01032774-eba3-4141-b432-f52cd1012378"
   },
   "outputs": [
    {
     "data": {
      "text/html": [
       "\n",
       "  <div id=\"df-a153cfeb-ef37-492d-a0b0-fea6200cdf60\">\n",
       "    <div class=\"colab-df-container\">\n",
       "      <div>\n",
       "<style scoped>\n",
       "    .dataframe tbody tr th:only-of-type {\n",
       "        vertical-align: middle;\n",
       "    }\n",
       "\n",
       "    .dataframe tbody tr th {\n",
       "        vertical-align: top;\n",
       "    }\n",
       "\n",
       "    .dataframe thead th {\n",
       "        text-align: right;\n",
       "    }\n",
       "</style>\n",
       "<table border=\"1\" class=\"dataframe\">\n",
       "  <thead>\n",
       "    <tr style=\"text-align: right;\">\n",
       "      <th></th>\n",
       "      <th>text</th>\n",
       "      <th>target</th>\n",
       "    </tr>\n",
       "  </thead>\n",
       "  <tbody>\n",
       "    <tr>\n",
       "      <th>0</th>\n",
       "      <td>на свою сильно волосатую леди с младенцем и за...</td>\n",
       "      <td>1</td>\n",
       "    </tr>\n",
       "    <tr>\n",
       "      <th>1</th>\n",
       "      <td>друг другу с тех пор они каждый день</td>\n",
       "      <td>1</td>\n",
       "    </tr>\n",
       "    <tr>\n",
       "      <th>2</th>\n",
       "      <td>realtime fast fourier transformbased notch fil...</td>\n",
       "      <td>2</td>\n",
       "    </tr>\n",
       "    <tr>\n",
       "      <th>3</th>\n",
       "      <td>учитель не найдутс был опять ответ кирила петр...</td>\n",
       "      <td>1</td>\n",
       "    </tr>\n",
       "    <tr>\n",
       "      <th>4</th>\n",
       "      <td>лучшего ансамбля та же несмотря на это результ...</td>\n",
       "      <td>2</td>\n",
       "    </tr>\n",
       "  </tbody>\n",
       "</table>\n",
       "</div>\n",
       "      <button class=\"colab-df-convert\" onclick=\"convertToInteractive('df-a153cfeb-ef37-492d-a0b0-fea6200cdf60')\"\n",
       "              title=\"Convert this dataframe to an interactive table.\"\n",
       "              style=\"display:none;\">\n",
       "        \n",
       "  <svg xmlns=\"http://www.w3.org/2000/svg\" height=\"24px\"viewBox=\"0 0 24 24\"\n",
       "       width=\"24px\">\n",
       "    <path d=\"M0 0h24v24H0V0z\" fill=\"none\"/>\n",
       "    <path d=\"M18.56 5.44l.94 2.06.94-2.06 2.06-.94-2.06-.94-.94-2.06-.94 2.06-2.06.94zm-11 1L8.5 8.5l.94-2.06 2.06-.94-2.06-.94L8.5 2.5l-.94 2.06-2.06.94zm10 10l.94 2.06.94-2.06 2.06-.94-2.06-.94-.94-2.06-.94 2.06-2.06.94z\"/><path d=\"M17.41 7.96l-1.37-1.37c-.4-.4-.92-.59-1.43-.59-.52 0-1.04.2-1.43.59L10.3 9.45l-7.72 7.72c-.78.78-.78 2.05 0 2.83L4 21.41c.39.39.9.59 1.41.59.51 0 1.02-.2 1.41-.59l7.78-7.78 2.81-2.81c.8-.78.8-2.07 0-2.86zM5.41 20L4 18.59l7.72-7.72 1.47 1.35L5.41 20z\"/>\n",
       "  </svg>\n",
       "      </button>\n",
       "      \n",
       "  <style>\n",
       "    .colab-df-container {\n",
       "      display:flex;\n",
       "      flex-wrap:wrap;\n",
       "      gap: 12px;\n",
       "    }\n",
       "\n",
       "    .colab-df-convert {\n",
       "      background-color: #E8F0FE;\n",
       "      border: none;\n",
       "      border-radius: 50%;\n",
       "      cursor: pointer;\n",
       "      display: none;\n",
       "      fill: #1967D2;\n",
       "      height: 32px;\n",
       "      padding: 0 0 0 0;\n",
       "      width: 32px;\n",
       "    }\n",
       "\n",
       "    .colab-df-convert:hover {\n",
       "      background-color: #E2EBFA;\n",
       "      box-shadow: 0px 1px 2px rgba(60, 64, 67, 0.3), 0px 1px 3px 1px rgba(60, 64, 67, 0.15);\n",
       "      fill: #174EA6;\n",
       "    }\n",
       "\n",
       "    [theme=dark] .colab-df-convert {\n",
       "      background-color: #3B4455;\n",
       "      fill: #D2E3FC;\n",
       "    }\n",
       "\n",
       "    [theme=dark] .colab-df-convert:hover {\n",
       "      background-color: #434B5C;\n",
       "      box-shadow: 0px 1px 3px 1px rgba(0, 0, 0, 0.15);\n",
       "      filter: drop-shadow(0px 1px 2px rgba(0, 0, 0, 0.3));\n",
       "      fill: #FFFFFF;\n",
       "    }\n",
       "  </style>\n",
       "\n",
       "      <script>\n",
       "        const buttonEl =\n",
       "          document.querySelector('#df-a153cfeb-ef37-492d-a0b0-fea6200cdf60 button.colab-df-convert');\n",
       "        buttonEl.style.display =\n",
       "          google.colab.kernel.accessAllowed ? 'block' : 'none';\n",
       "\n",
       "        async function convertToInteractive(key) {\n",
       "          const element = document.querySelector('#df-a153cfeb-ef37-492d-a0b0-fea6200cdf60');\n",
       "          const dataTable =\n",
       "            await google.colab.kernel.invokeFunction('convertToInteractive',\n",
       "                                                     [key], {});\n",
       "          if (!dataTable) return;\n",
       "\n",
       "          const docLinkHtml = 'Like what you see? Visit the ' +\n",
       "            '<a target=\"_blank\" href=https://colab.research.google.com/notebooks/data_table.ipynb>data table notebook</a>'\n",
       "            + ' to learn more about interactive tables.';\n",
       "          element.innerHTML = '';\n",
       "          dataTable['output_type'] = 'display_data';\n",
       "          await google.colab.output.renderOutput(dataTable, element);\n",
       "          const docLink = document.createElement('div');\n",
       "          docLink.innerHTML = docLinkHtml;\n",
       "          element.appendChild(docLink);\n",
       "        }\n",
       "      </script>\n",
       "    </div>\n",
       "  </div>\n",
       "  "
      ],
      "text/plain": [
       "                                                text  target\n",
       "0  на свою сильно волосатую леди с младенцем и за...       1\n",
       "1               друг другу с тех пор они каждый день       1\n",
       "2  realtime fast fourier transformbased notch fil...       2\n",
       "3  учитель не найдутс был опять ответ кирила петр...       1\n",
       "4  лучшего ансамбля та же несмотря на это результ...       2"
      ]
     },
     "execution_count": 39,
     "metadata": {},
     "output_type": "execute_result"
    }
   ],
   "source": [
    "train_dataset.head(5)"
   ]
  },
  {
   "cell_type": "code",
   "execution_count": 40,
   "metadata": {
    "colab": {
     "base_uri": "https://localhost:8080/",
     "height": 204
    },
    "id": "kYHPWNeyCGUt",
    "outputId": "48c55617-4483-4f04-e2ab-c38bb0f7327c"
   },
   "outputs": [
    {
     "data": {
      "text/html": [
       "\n",
       "  <div id=\"df-0fc903f9-b3cb-4644-9965-37b22f66fedd\">\n",
       "    <div class=\"colab-df-container\">\n",
       "      <div>\n",
       "<style scoped>\n",
       "    .dataframe tbody tr th:only-of-type {\n",
       "        vertical-align: middle;\n",
       "    }\n",
       "\n",
       "    .dataframe tbody tr th {\n",
       "        vertical-align: top;\n",
       "    }\n",
       "\n",
       "    .dataframe thead th {\n",
       "        text-align: right;\n",
       "    }\n",
       "</style>\n",
       "<table border=\"1\" class=\"dataframe\">\n",
       "  <thead>\n",
       "    <tr style=\"text-align: right;\">\n",
       "      <th></th>\n",
       "      <th>text</th>\n",
       "      <th>target</th>\n",
       "    </tr>\n",
       "  </thead>\n",
       "  <tbody>\n",
       "    <tr>\n",
       "      <th>0</th>\n",
       "      <td>in integrated iot and fog computing environmen...</td>\n",
       "      <td>2</td>\n",
       "    </tr>\n",
       "    <tr>\n",
       "      <th>1</th>\n",
       "      <td>ну вот последняя неделя уходящего 2013 года я ...</td>\n",
       "      <td>0</td>\n",
       "    </tr>\n",
       "    <tr>\n",
       "      <th>2</th>\n",
       "      <td>для эффективной реализации алгоритма необходим...</td>\n",
       "      <td>2</td>\n",
       "    </tr>\n",
       "    <tr>\n",
       "      <th>3</th>\n",
       "      <td>к этому к театру год не пойдем клянусь ладно джим</td>\n",
       "      <td>1</td>\n",
       "    </tr>\n",
       "    <tr>\n",
       "      <th>4</th>\n",
       "      <td>и тут же пропал золото на дубах потускнело</td>\n",
       "      <td>1</td>\n",
       "    </tr>\n",
       "  </tbody>\n",
       "</table>\n",
       "</div>\n",
       "      <button class=\"colab-df-convert\" onclick=\"convertToInteractive('df-0fc903f9-b3cb-4644-9965-37b22f66fedd')\"\n",
       "              title=\"Convert this dataframe to an interactive table.\"\n",
       "              style=\"display:none;\">\n",
       "        \n",
       "  <svg xmlns=\"http://www.w3.org/2000/svg\" height=\"24px\"viewBox=\"0 0 24 24\"\n",
       "       width=\"24px\">\n",
       "    <path d=\"M0 0h24v24H0V0z\" fill=\"none\"/>\n",
       "    <path d=\"M18.56 5.44l.94 2.06.94-2.06 2.06-.94-2.06-.94-.94-2.06-.94 2.06-2.06.94zm-11 1L8.5 8.5l.94-2.06 2.06-.94-2.06-.94L8.5 2.5l-.94 2.06-2.06.94zm10 10l.94 2.06.94-2.06 2.06-.94-2.06-.94-.94-2.06-.94 2.06-2.06.94z\"/><path d=\"M17.41 7.96l-1.37-1.37c-.4-.4-.92-.59-1.43-.59-.52 0-1.04.2-1.43.59L10.3 9.45l-7.72 7.72c-.78.78-.78 2.05 0 2.83L4 21.41c.39.39.9.59 1.41.59.51 0 1.02-.2 1.41-.59l7.78-7.78 2.81-2.81c.8-.78.8-2.07 0-2.86zM5.41 20L4 18.59l7.72-7.72 1.47 1.35L5.41 20z\"/>\n",
       "  </svg>\n",
       "      </button>\n",
       "      \n",
       "  <style>\n",
       "    .colab-df-container {\n",
       "      display:flex;\n",
       "      flex-wrap:wrap;\n",
       "      gap: 12px;\n",
       "    }\n",
       "\n",
       "    .colab-df-convert {\n",
       "      background-color: #E8F0FE;\n",
       "      border: none;\n",
       "      border-radius: 50%;\n",
       "      cursor: pointer;\n",
       "      display: none;\n",
       "      fill: #1967D2;\n",
       "      height: 32px;\n",
       "      padding: 0 0 0 0;\n",
       "      width: 32px;\n",
       "    }\n",
       "\n",
       "    .colab-df-convert:hover {\n",
       "      background-color: #E2EBFA;\n",
       "      box-shadow: 0px 1px 2px rgba(60, 64, 67, 0.3), 0px 1px 3px 1px rgba(60, 64, 67, 0.15);\n",
       "      fill: #174EA6;\n",
       "    }\n",
       "\n",
       "    [theme=dark] .colab-df-convert {\n",
       "      background-color: #3B4455;\n",
       "      fill: #D2E3FC;\n",
       "    }\n",
       "\n",
       "    [theme=dark] .colab-df-convert:hover {\n",
       "      background-color: #434B5C;\n",
       "      box-shadow: 0px 1px 3px 1px rgba(0, 0, 0, 0.15);\n",
       "      filter: drop-shadow(0px 1px 2px rgba(0, 0, 0, 0.3));\n",
       "      fill: #FFFFFF;\n",
       "    }\n",
       "  </style>\n",
       "\n",
       "      <script>\n",
       "        const buttonEl =\n",
       "          document.querySelector('#df-0fc903f9-b3cb-4644-9965-37b22f66fedd button.colab-df-convert');\n",
       "        buttonEl.style.display =\n",
       "          google.colab.kernel.accessAllowed ? 'block' : 'none';\n",
       "\n",
       "        async function convertToInteractive(key) {\n",
       "          const element = document.querySelector('#df-0fc903f9-b3cb-4644-9965-37b22f66fedd');\n",
       "          const dataTable =\n",
       "            await google.colab.kernel.invokeFunction('convertToInteractive',\n",
       "                                                     [key], {});\n",
       "          if (!dataTable) return;\n",
       "\n",
       "          const docLinkHtml = 'Like what you see? Visit the ' +\n",
       "            '<a target=\"_blank\" href=https://colab.research.google.com/notebooks/data_table.ipynb>data table notebook</a>'\n",
       "            + ' to learn more about interactive tables.';\n",
       "          element.innerHTML = '';\n",
       "          dataTable['output_type'] = 'display_data';\n",
       "          await google.colab.output.renderOutput(dataTable, element);\n",
       "          const docLink = document.createElement('div');\n",
       "          docLink.innerHTML = docLinkHtml;\n",
       "          element.appendChild(docLink);\n",
       "        }\n",
       "      </script>\n",
       "    </div>\n",
       "  </div>\n",
       "  "
      ],
      "text/plain": [
       "                                                text  target\n",
       "0  in integrated iot and fog computing environmen...       2\n",
       "1  ну вот последняя неделя уходящего 2013 года я ...       0\n",
       "2  для эффективной реализации алгоритма необходим...       2\n",
       "3  к этому к театру год не пойдем клянусь ладно джим       1\n",
       "4         и тут же пропал золото на дубах потускнело       1"
      ]
     },
     "execution_count": 40,
     "metadata": {},
     "output_type": "execute_result"
    }
   ],
   "source": [
    "test_dataset.head(5)"
   ]
  },
  {
   "cell_type": "code",
   "execution_count": 41,
   "metadata": {
    "colab": {
     "base_uri": "https://localhost:8080/",
     "height": 204
    },
    "id": "bbIA7KRO3xOL",
    "outputId": "55c4ed1d-147c-487b-9f9c-ef3c6f612bb7"
   },
   "outputs": [
    {
     "data": {
      "text/html": [
       "\n",
       "  <div id=\"df-4a09f04b-3601-44b7-ba75-6fb16d86ba47\">\n",
       "    <div class=\"colab-df-container\">\n",
       "      <div>\n",
       "<style scoped>\n",
       "    .dataframe tbody tr th:only-of-type {\n",
       "        vertical-align: middle;\n",
       "    }\n",
       "\n",
       "    .dataframe tbody tr th {\n",
       "        vertical-align: top;\n",
       "    }\n",
       "\n",
       "    .dataframe thead th {\n",
       "        text-align: right;\n",
       "    }\n",
       "</style>\n",
       "<table border=\"1\" class=\"dataframe\">\n",
       "  <thead>\n",
       "    <tr style=\"text-align: right;\">\n",
       "      <th></th>\n",
       "      <th>text</th>\n",
       "      <th>target</th>\n",
       "    </tr>\n",
       "  </thead>\n",
       "  <tbody>\n",
       "    <tr>\n",
       "      <th>0</th>\n",
       "      <td>№ 9 2012 с 8998 163 булдакова ти суятинов си м...</td>\n",
       "      <td>2</td>\n",
       "    </tr>\n",
       "    <tr>\n",
       "      <th>1</th>\n",
       "      <td>17 no 7 2017 pp 124 doi 101142s021951941740004...</td>\n",
       "      <td>2</td>\n",
       "    </tr>\n",
       "    <tr>\n",
       "      <th>2</th>\n",
       "      <td>топорами в руках защищать вал на который лезли...</td>\n",
       "      <td>1</td>\n",
       "    </tr>\n",
       "    <tr>\n",
       "      <th>3</th>\n",
       "      <td>хммммм есть над чем подумать завтра скажу че д...</td>\n",
       "      <td>0</td>\n",
       "    </tr>\n",
       "    <tr>\n",
       "      <th>4</th>\n",
       "      <td>он предложил технологию информационного анализ...</td>\n",
       "      <td>2</td>\n",
       "    </tr>\n",
       "  </tbody>\n",
       "</table>\n",
       "</div>\n",
       "      <button class=\"colab-df-convert\" onclick=\"convertToInteractive('df-4a09f04b-3601-44b7-ba75-6fb16d86ba47')\"\n",
       "              title=\"Convert this dataframe to an interactive table.\"\n",
       "              style=\"display:none;\">\n",
       "        \n",
       "  <svg xmlns=\"http://www.w3.org/2000/svg\" height=\"24px\"viewBox=\"0 0 24 24\"\n",
       "       width=\"24px\">\n",
       "    <path d=\"M0 0h24v24H0V0z\" fill=\"none\"/>\n",
       "    <path d=\"M18.56 5.44l.94 2.06.94-2.06 2.06-.94-2.06-.94-.94-2.06-.94 2.06-2.06.94zm-11 1L8.5 8.5l.94-2.06 2.06-.94-2.06-.94L8.5 2.5l-.94 2.06-2.06.94zm10 10l.94 2.06.94-2.06 2.06-.94-2.06-.94-.94-2.06-.94 2.06-2.06.94z\"/><path d=\"M17.41 7.96l-1.37-1.37c-.4-.4-.92-.59-1.43-.59-.52 0-1.04.2-1.43.59L10.3 9.45l-7.72 7.72c-.78.78-.78 2.05 0 2.83L4 21.41c.39.39.9.59 1.41.59.51 0 1.02-.2 1.41-.59l7.78-7.78 2.81-2.81c.8-.78.8-2.07 0-2.86zM5.41 20L4 18.59l7.72-7.72 1.47 1.35L5.41 20z\"/>\n",
       "  </svg>\n",
       "      </button>\n",
       "      \n",
       "  <style>\n",
       "    .colab-df-container {\n",
       "      display:flex;\n",
       "      flex-wrap:wrap;\n",
       "      gap: 12px;\n",
       "    }\n",
       "\n",
       "    .colab-df-convert {\n",
       "      background-color: #E8F0FE;\n",
       "      border: none;\n",
       "      border-radius: 50%;\n",
       "      cursor: pointer;\n",
       "      display: none;\n",
       "      fill: #1967D2;\n",
       "      height: 32px;\n",
       "      padding: 0 0 0 0;\n",
       "      width: 32px;\n",
       "    }\n",
       "\n",
       "    .colab-df-convert:hover {\n",
       "      background-color: #E2EBFA;\n",
       "      box-shadow: 0px 1px 2px rgba(60, 64, 67, 0.3), 0px 1px 3px 1px rgba(60, 64, 67, 0.15);\n",
       "      fill: #174EA6;\n",
       "    }\n",
       "\n",
       "    [theme=dark] .colab-df-convert {\n",
       "      background-color: #3B4455;\n",
       "      fill: #D2E3FC;\n",
       "    }\n",
       "\n",
       "    [theme=dark] .colab-df-convert:hover {\n",
       "      background-color: #434B5C;\n",
       "      box-shadow: 0px 1px 3px 1px rgba(0, 0, 0, 0.15);\n",
       "      filter: drop-shadow(0px 1px 2px rgba(0, 0, 0, 0.3));\n",
       "      fill: #FFFFFF;\n",
       "    }\n",
       "  </style>\n",
       "\n",
       "      <script>\n",
       "        const buttonEl =\n",
       "          document.querySelector('#df-4a09f04b-3601-44b7-ba75-6fb16d86ba47 button.colab-df-convert');\n",
       "        buttonEl.style.display =\n",
       "          google.colab.kernel.accessAllowed ? 'block' : 'none';\n",
       "\n",
       "        async function convertToInteractive(key) {\n",
       "          const element = document.querySelector('#df-4a09f04b-3601-44b7-ba75-6fb16d86ba47');\n",
       "          const dataTable =\n",
       "            await google.colab.kernel.invokeFunction('convertToInteractive',\n",
       "                                                     [key], {});\n",
       "          if (!dataTable) return;\n",
       "\n",
       "          const docLinkHtml = 'Like what you see? Visit the ' +\n",
       "            '<a target=\"_blank\" href=https://colab.research.google.com/notebooks/data_table.ipynb>data table notebook</a>'\n",
       "            + ' to learn more about interactive tables.';\n",
       "          element.innerHTML = '';\n",
       "          dataTable['output_type'] = 'display_data';\n",
       "          await google.colab.output.renderOutput(dataTable, element);\n",
       "          const docLink = document.createElement('div');\n",
       "          docLink.innerHTML = docLinkHtml;\n",
       "          element.appendChild(docLink);\n",
       "        }\n",
       "      </script>\n",
       "    </div>\n",
       "  </div>\n",
       "  "
      ],
      "text/plain": [
       "                                                text  target\n",
       "0  № 9 2012 с 8998 163 булдакова ти суятинов си м...       2\n",
       "1  17 no 7 2017 pp 124 doi 101142s021951941740004...       2\n",
       "2  топорами в руках защищать вал на который лезли...       1\n",
       "3  хммммм есть над чем подумать завтра скажу че д...       0\n",
       "4  он предложил технологию информационного анализ...       2"
      ]
     },
     "execution_count": 41,
     "metadata": {},
     "output_type": "execute_result"
    }
   ],
   "source": [
    "val_dataset.head(5)"
   ]
  },
  {
   "cell_type": "markdown",
   "metadata": {
    "id": "D0DmjP13DVZ4"
   },
   "source": [
    "## МОДЕЛЬ"
   ]
  },
  {
   "cell_type": "markdown",
   "metadata": {
    "id": "P1-Kac7RwHlE"
   },
   "source": [
    "В качестве модели я предлагаю использовать самую стандартную и общеизвестную модель, для анализа текстов (**мы её ещё в ШАДе использовали** на каггл конкурсе). По крайней мере, отталкиваться стоит от нее. \n",
    "\n",
    "Она состоит из двух этапов:\n",
    "\n",
    "1. Мы строим tf-idf для предложений. Получаем векторы. \n",
    "2. А дальше наша задача просто превращаетсяв обычную задачу классификации вектора - тут мы вольны использовать любую модель. Опыт домашек ШАДа подсказывает, что самое простое обычно уже хорошее - поэтому используем обычную логистическую регрессию. Можно еще оценить количество итераций так, чтобы качество было максимальным на валидации. Для этого надо выделить валидацию - это мы сделали ранее, при подготовке датасета"
   ]
  },
  {
   "cell_type": "markdown",
   "metadata": {
    "id": "yF10UGJzDX2l"
   },
   "source": [
    "Итак, первый важный момент - хочется рассматривать только слова, которые не супер-редкие и встречаются в train dataset с некоторой частотой. Таким образом мы исключим опечатки и просто супер-редкие слова, которые могут означать вообще что угодно. Тут как в жизни - когда мы читаем текст и не знаем какого-то слова - мы все равно можем уловить суть"
   ]
  },
  {
   "cell_type": "markdown",
   "metadata": {
    "id": "MFMs96U3ItPF"
   },
   "source": [
    "Мы строим модель, которая будет генерировать tf-idf признаки. По этой причине нам не нужен очень большой размер словаря. Сделаем его несколько поменьше. Итак, мы удаляем слова настолько редкие, что они встречаются реже 30 раз за тренировочных датасет\n",
    "\n",
    "Так мы избавляемся от совсем редких слов, которые, впрочем, могут и улавливать специфику. Оставляем плюс-минус общие слова. Кроме этого мы избавляемся от опечаток или разного рода случайных ошибок в ходе преобразования датасета (по типу склейки какого-то символа, которое не слово, но при этом встречается).\n",
    "\n",
    "Кроме этого избавимся от разных незначимых слов, которые часто встречаются в текстах - это разные предлоги, союзы. Для определенности мы просто уберем слова, которые встречаются чаще, чем 3000 раз"
   ]
  },
  {
   "cell_type": "code",
   "execution_count": 42,
   "metadata": {
    "colab": {
     "base_uri": "https://localhost:8080/"
    },
    "id": "fgqmGj1PTu5J",
    "outputId": "ad4e72dc-469e-4995-bdf9-306f521aae4f"
   },
   "outputs": [
    {
     "data": {
      "text/plain": [
       "[('и', 16527),\n",
       " ('в', 12884),\n",
       " ('не', 8534),\n",
       " ('на', 7878),\n",
       " ('с', 6117),\n",
       " ('что', 4619),\n",
       " ('а', 4371),\n",
       " ('я', 4176),\n",
       " ('для', 3554),\n",
       " ('он', 3375)]"
      ]
     },
     "execution_count": 42,
     "metadata": {},
     "output_type": "execute_result"
    }
   ],
   "source": [
    "words = {}\n",
    "for text in train_dataset['text'].values:\n",
    "  for word in text.split():\n",
    "    if word not in words:\n",
    "      words[word] = 0\n",
    "    words[word] += 1\n",
    "words = sorted([(k, v) for k, v in words.items()], key=lambda x: x[1], reverse=True)\n",
    "words[:10]"
   ]
  },
  {
   "cell_type": "code",
   "execution_count": 43,
   "metadata": {
    "colab": {
     "base_uri": "https://localhost:8080/"
    },
    "id": "SKSswcWnFzEz",
    "outputId": "ce842966-a73f-47cf-f283-64fe716c1897"
   },
   "outputs": [
    {
     "data": {
      "text/plain": [
       "(51077, 2274)"
      ]
     },
     "execution_count": 43,
     "metadata": {},
     "output_type": "execute_result"
    }
   ],
   "source": [
    "len(words), len([elem for elem in words if (elem[1] >= 30 and elem[1] <= 3000)])"
   ]
  },
  {
   "cell_type": "code",
   "execution_count": 44,
   "metadata": {
    "id": "dryT8Zhb0llz"
   },
   "outputs": [],
   "source": [
    "words = [elem[0] for elem in words if (elem[1] < 30 or elem[1] > 2000)]"
   ]
  },
  {
   "cell_type": "code",
   "execution_count": 45,
   "metadata": {
    "colab": {
     "base_uri": "https://localhost:8080/"
    },
    "id": "GluoTGBV1B8p",
    "outputId": "c0f1335c-cb41-4779-f951-9ddc574a5a6b"
   },
   "outputs": [
    {
     "data": {
      "text/plain": [
       "48810"
      ]
     },
     "execution_count": 45,
     "metadata": {},
     "output_type": "execute_result"
    }
   ],
   "source": [
    "len(words)"
   ]
  },
  {
   "cell_type": "code",
   "execution_count": 46,
   "metadata": {
    "colab": {
     "base_uri": "https://localhost:8080/",
     "height": 37
    },
    "id": "r69FC14-1QpV",
    "outputId": "92e4d14d-e640-4a56-a1bf-7180fc9b10b1"
   },
   "outputs": [
    {
     "data": {
      "application/vnd.google.colaboratory.intrinsic+json": {
       "type": "string"
      },
      "text/plain": [
       "'и'"
      ]
     },
     "execution_count": 46,
     "metadata": {},
     "output_type": "execute_result"
    }
   ],
   "source": [
    "words[0]"
   ]
  },
  {
   "cell_type": "markdown",
   "metadata": {
    "id": "WY6-BvRBJYVX"
   },
   "source": [
    "Итак, у нас имеется набор текстов. Что с ним делать? Надо как-нибудь получить эмбеддинги. Наверное, один из лучших способов, которые я тут вижу - это использовать tf-idf векторизацию для получения эмбеддингов. \n",
    "\n",
    "Её использование достаточно удобное - появляется возможность выкидывания лишних слов, с которыми tf-idf vectorizer умеет работать отдельно. Плюс, почему именно tf-idf - дело в том, что у каждого типа текстов свой \"сленг\". Если смотреть на частоту определенных термов, то скорее всего этой информации будет уже убер-достаточно для определения того, что это за сленг, а значит и стиля текста.\n",
    "\n",
    "Для получения эмбеддингов слов, воспользуемся tf-idf. При этом на train_dataset мы его обучим, а на test будем использовать. "
   ]
  },
  {
   "cell_type": "code",
   "execution_count": 47,
   "metadata": {
    "id": "T-9FzFIKD3UR"
   },
   "outputs": [],
   "source": [
    "from sklearn.feature_extraction.text import TfidfVectorizer\n",
    "vectorizer = TfidfVectorizer(stop_words=words)"
   ]
  },
  {
   "cell_type": "code",
   "execution_count": 48,
   "metadata": {
    "colab": {
     "base_uri": "https://localhost:8080/"
    },
    "id": "10fe7cfh1M1U",
    "outputId": "3a1108aa-f310-46ba-bd42-77ca7d4d8854"
   },
   "outputs": [
    {
     "data": {
      "text/plain": [
       "TfidfVectorizer(stop_words=['и', 'в', 'не', 'на', 'с', 'что', 'а', 'я', 'для',\n",
       "                            'он', 'как', 'по', 'вилли', 'его', 'из', 'к', 'это',\n",
       "                            'у', 'цель', 'positive', 'acc', 'чему', 'части',\n",
       "                            'r2', 'сидеть', 'угла', 'ветром', 'подал', 'wu',\n",
       "                            'распознанных', ...])"
      ]
     },
     "execution_count": 48,
     "metadata": {},
     "output_type": "execute_result"
    }
   ],
   "source": [
    "vectorizer"
   ]
  },
  {
   "cell_type": "code",
   "execution_count": 49,
   "metadata": {
    "colab": {
     "base_uri": "https://localhost:8080/"
    },
    "id": "oe4yFcVrjs-0",
    "outputId": "ab07adb7-e5a8-4b81-fddb-f7dd61db4ab7"
   },
   "outputs": [
    {
     "name": "stderr",
     "output_type": "stream",
     "text": [
      "/usr/local/lib/python3.7/dist-packages/sklearn/feature_extraction/text.py:401: UserWarning: Your stop_words may be inconsistent with your preprocessing. Tokenizing the stop words generated tokens ['13', '18', '19', '20', 'coconet', 'dj', 'dspa', 'intels', 'mcdonald', 'mondejarguerra', 'rrинтервалов', 'signal', 'systems', 'автодруг', 'ак', 'аларм', 'анжи', 'аномальный', 'аномальных', 'белгородская', 'биомедсистемы', 'биомедсистемы2018', 'биомедсистемы2020', 'веке', 'вечерадрузья', 'влияние', 'внутри', 'времени', 'всегда', 'ганьба', 'гнать', 'групп', 'группы', 'день', 'дети', 'европарк', 'если', 'женевке', 'знал', 'идиллия', 'идиоту', 'или', 'интервала', 'интервалы', 'иоасафа', 'иосафа', 'кажды', 'канзас', 'качество', 'кинодудки', 'кодирования', 'компьютерное', 'левый', 'летоо', 'лингвистические', 'люблю', 'мафия', 'между', 'методы', 'митти', 'ммтт32', 'мое', 'мониторинга', 'морфологических', 'мёрзлая', 'надо', 'надёжность', 'науковедение', 'невероятная', 'нет', 'новые', 'нормального', 'нормальный', 'нормальных', 'обогреватель', 'обучения', 'объясним', 'оптика', 'отрасли', 'отсутствие', 'отцы', 'пик', 'пики', 'плато', 'помощь', 'порог', 'практике', 'прекрасенбааабы', 'престолов', 'признаки', 'проапрейденная', 'прорывы', 'простой', 'процедуры', 'прямо', 'птитт2017', 'работу', 'разработка', 'россии', 'руках', 'санктпетербургский', 'светлячок', 'свою', 'сердца', 'сигнал', 'сигналов', 'системы', 'слеванаправо', 'современные', 'спасибо', 'справаналево', 'средней', 'твиттер', 'телефон', 'теперь', 'технологии', 'тимофейня', 'троллейбусе', 'тул', 'тулы', 'убывания', 'уйдёте', 'уоллстрит', 'ушла', 'фрэмэ', 'фундаментальная', 'хвостах', 'хвостом', 'цифровая', 'часто', 'числокластеров', 'шир', 'экстрасистолы', 'январяура'] not in stop_words.\n",
      "  % sorted(inconsistent)\n"
     ]
    },
    {
     "name": "stdout",
     "output_type": "stream",
     "text": [
      "(30000, 2282) (30000,)\n"
     ]
    }
   ],
   "source": [
    "# Обучение и заодно получение векторов предложений train\n",
    "\n",
    "x_train = np.array(vectorizer.fit_transform(train_dataset['text']).todense())\n",
    "y_train = train_dataset['target'].values\n",
    "print(x_train.shape, y_train.shape)"
   ]
  },
  {
   "cell_type": "code",
   "execution_count": 51,
   "metadata": {
    "colab": {
     "base_uri": "https://localhost:8080/"
    },
    "id": "74VpD6Qs4kYg",
    "outputId": "f65dda62-856f-4b18-ae53-8e235bab06e7"
   },
   "outputs": [
    {
     "name": "stdout",
     "output_type": "stream",
     "text": [
      "(3000, 2282) (3000,)\n"
     ]
    }
   ],
   "source": [
    "# Получение вектором предложений на валидации\n",
    "\n",
    "x_val = np.array(vectorizer.transform(val_dataset['text']).todense())\n",
    "y_val = val_dataset['target'].values\n",
    "print(x_val.shape, y_val.shape)"
   ]
  },
  {
   "cell_type": "code",
   "execution_count": 50,
   "metadata": {
    "colab": {
     "base_uri": "https://localhost:8080/"
    },
    "id": "twLOveb1InFZ",
    "outputId": "66d164fb-f8d6-4167-acde-4797be88b13d"
   },
   "outputs": [
    {
     "name": "stdout",
     "output_type": "stream",
     "text": [
      "(6000, 2282) (6000,)\n"
     ]
    }
   ],
   "source": [
    "# Получение вектором предложений test\n",
    "\n",
    "\n",
    "x_test = np.array(vectorizer.transform(test_dataset['text']).todense())\n",
    "y_test = test_dataset['target'].values\n",
    "print(x_test.shape, y_test.shape)"
   ]
  },
  {
   "cell_type": "markdown",
   "metadata": {
    "id": "IHMylm6wkI0r"
   },
   "source": [
    "Итак, у нас есть векторы tf-idf для каждого из текстов. Теперь мы можем запускать уже какие-то модели. \n",
    "\n",
    "По сути, у нас имеется вектор, и мы должны провести его многоклассовую классификацию. Тут даже не хочется использовать какие-то сложные модели по типу бустингов и нейронных сетей. Кажется, что на 5000 фичах от tf-idf можно обойтись обычной линейной классификацией. По крайней мере это стоит проверить"
   ]
  },
  {
   "cell_type": "code",
   "execution_count": 55,
   "metadata": {
    "colab": {
     "base_uri": "https://localhost:8080/",
     "height": 828
    },
    "id": "d2X6pG7s4NOp",
    "outputId": "8119b5c8-39d6-4f73-a463-6c3bf832f66c"
   },
   "outputs": [
    {
     "metadata": {
      "tags": null
     },
     "name": "stderr",
     "output_type": "stream",
     "text": [
      "/usr/local/lib/python3.7/dist-packages/sklearn/linear_model/_logistic.py:818: ConvergenceWarning: lbfgs failed to converge (status=1):\n",
      "STOP: TOTAL NO. of ITERATIONS REACHED LIMIT.\n",
      "\n",
      "Increase the number of iterations (max_iter) or scale the data as shown in:\n",
      "    https://scikit-learn.org/stable/modules/preprocessing.html\n",
      "Please also refer to the documentation for alternative solver options:\n",
      "    https://scikit-learn.org/stable/modules/linear_model.html#logistic-regression\n",
      "  extra_warning_msg=_LOGISTIC_SOLVER_CONVERGENCE_MSG,\n",
      "/usr/local/lib/python3.7/dist-packages/sklearn/linear_model/_logistic.py:818: ConvergenceWarning: lbfgs failed to converge (status=1):\n",
      "STOP: TOTAL NO. of ITERATIONS REACHED LIMIT.\n",
      "\n",
      "Increase the number of iterations (max_iter) or scale the data as shown in:\n",
      "    https://scikit-learn.org/stable/modules/preprocessing.html\n",
      "Please also refer to the documentation for alternative solver options:\n",
      "    https://scikit-learn.org/stable/modules/linear_model.html#logistic-regression\n",
      "  extra_warning_msg=_LOGISTIC_SOLVER_CONVERGENCE_MSG,\n",
      "/usr/local/lib/python3.7/dist-packages/sklearn/linear_model/_logistic.py:818: ConvergenceWarning: lbfgs failed to converge (status=1):\n",
      "STOP: TOTAL NO. of ITERATIONS REACHED LIMIT.\n",
      "\n",
      "Increase the number of iterations (max_iter) or scale the data as shown in:\n",
      "    https://scikit-learn.org/stable/modules/preprocessing.html\n",
      "Please also refer to the documentation for alternative solver options:\n",
      "    https://scikit-learn.org/stable/modules/linear_model.html#logistic-regression\n",
      "  extra_warning_msg=_LOGISTIC_SOLVER_CONVERGENCE_MSG,\n",
      "/usr/local/lib/python3.7/dist-packages/sklearn/linear_model/_logistic.py:818: ConvergenceWarning: lbfgs failed to converge (status=1):\n",
      "STOP: TOTAL NO. of ITERATIONS REACHED LIMIT.\n",
      "\n",
      "Increase the number of iterations (max_iter) or scale the data as shown in:\n",
      "    https://scikit-learn.org/stable/modules/preprocessing.html\n",
      "Please also refer to the documentation for alternative solver options:\n",
      "    https://scikit-learn.org/stable/modules/linear_model.html#logistic-regression\n",
      "  extra_warning_msg=_LOGISTIC_SOLVER_CONVERGENCE_MSG,\n"
     ]
    },
    {
     "data": {
      "text/plain": [
       "[<matplotlib.lines.Line2D at 0x7f3b4d1b0210>]"
      ]
     },
     "execution_count": 55,
     "metadata": {},
     "output_type": "execute_result"
    },
    {
     "data": {
      "image/png": "[encoded data removed]",
      "text/plain": [
       "<Figure size 432x288 with 1 Axes>"
      ]
     },
     "metadata": {
      "needs_background": "light"
     },
     "output_type": "display_data"
    }
   ],
   "source": [
    "from sklearn.linear_model import LogisticRegression\n",
    "from sklearn.metrics import accuracy_score\n",
    "# цикл подбора параметра через обычный grid-search\n",
    "\n",
    "accuracy_val = []\n",
    "max_iter_arr = []\n",
    "for max_iter in [10, 25, 50, 100, 250, 500, 1000]:\n",
    "  model = LogisticRegression(max_iter=max_iter).fit(x_train, y_train)\n",
    "  max_iter_arr.append(max_iter)\n",
    "  accuracy_val.append(accuracy_score(y_val, model.predict(x_val)))\n",
    "\n",
    "plt.plot(accuracy_val)"
   ]
  },
  {
   "cell_type": "markdown",
   "metadata": {
    "id": "HyjHUs725LF2"
   },
   "source": [
    "Мы видим, что в целом, качество не меняется уже после 2 элемента, то есть после 50 итераций. Для надежности оставим 100 итераций. \n",
    "\n",
    "Теперь можно попробовать так же поиграться с регуляризацией"
   ]
  },
  {
   "cell_type": "code",
   "execution_count": 57,
   "metadata": {
    "colab": {
     "base_uri": "https://localhost:8080/",
     "height": 826
    },
    "id": "0Lo3l_iJSddl",
    "outputId": "b1d6aaac-1690-4118-a633-78f978d19aad"
   },
   "outputs": [
    {
     "name": "stderr",
     "output_type": "stream",
     "text": [
      "/usr/local/lib/python3.7/dist-packages/sklearn/linear_model/_logistic.py:818: ConvergenceWarning: lbfgs failed to converge (status=1):\n",
      "STOP: TOTAL NO. of ITERATIONS REACHED LIMIT.\n",
      "\n",
      "Increase the number of iterations (max_iter) or scale the data as shown in:\n",
      "    https://scikit-learn.org/stable/modules/preprocessing.html\n",
      "Please also refer to the documentation for alternative solver options:\n",
      "    https://scikit-learn.org/stable/modules/linear_model.html#logistic-regression\n",
      "  extra_warning_msg=_LOGISTIC_SOLVER_CONVERGENCE_MSG,\n",
      "/usr/local/lib/python3.7/dist-packages/sklearn/linear_model/_logistic.py:818: ConvergenceWarning: lbfgs failed to converge (status=1):\n",
      "STOP: TOTAL NO. of ITERATIONS REACHED LIMIT.\n",
      "\n",
      "Increase the number of iterations (max_iter) or scale the data as shown in:\n",
      "    https://scikit-learn.org/stable/modules/preprocessing.html\n",
      "Please also refer to the documentation for alternative solver options:\n",
      "    https://scikit-learn.org/stable/modules/linear_model.html#logistic-regression\n",
      "  extra_warning_msg=_LOGISTIC_SOLVER_CONVERGENCE_MSG,\n",
      "/usr/local/lib/python3.7/dist-packages/sklearn/linear_model/_logistic.py:818: ConvergenceWarning: lbfgs failed to converge (status=1):\n",
      "STOP: TOTAL NO. of ITERATIONS REACHED LIMIT.\n",
      "\n",
      "Increase the number of iterations (max_iter) or scale the data as shown in:\n",
      "    https://scikit-learn.org/stable/modules/preprocessing.html\n",
      "Please also refer to the documentation for alternative solver options:\n",
      "    https://scikit-learn.org/stable/modules/linear_model.html#logistic-regression\n",
      "  extra_warning_msg=_LOGISTIC_SOLVER_CONVERGENCE_MSG,\n",
      "/usr/local/lib/python3.7/dist-packages/sklearn/linear_model/_logistic.py:818: ConvergenceWarning: lbfgs failed to converge (status=1):\n",
      "STOP: TOTAL NO. of ITERATIONS REACHED LIMIT.\n",
      "\n",
      "Increase the number of iterations (max_iter) or scale the data as shown in:\n",
      "    https://scikit-learn.org/stable/modules/preprocessing.html\n",
      "Please also refer to the documentation for alternative solver options:\n",
      "    https://scikit-learn.org/stable/modules/linear_model.html#logistic-regression\n",
      "  extra_warning_msg=_LOGISTIC_SOLVER_CONVERGENCE_MSG,\n"
     ]
    },
    {
     "data": {
      "text/plain": [
       "[<matplotlib.lines.Line2D at 0x7f3b4d11d5d0>]"
      ]
     },
     "execution_count": 57,
     "metadata": {},
     "output_type": "execute_result"
    },
    {
     "data": {
      "image/png": "[encoded data removed]",
      "text/plain": [
       "<Figure size 432x288 with 1 Axes>"
      ]
     },
     "metadata": {
      "needs_background": "light"
     },
     "output_type": "display_data"
    }
   ],
   "source": [
    "accuracy_val = []\n",
    "max_iter_arr = []\n",
    "for c in [0.1, 0.5, 1.0, 2.0, 5.0, 10.0]:\n",
    "  model = LogisticRegression(max_iter=100, C=c).fit(x_train, y_train)\n",
    "  max_iter_arr.append(max_iter)\n",
    "  accuracy_val.append(accuracy_score(y_val, model.predict(x_val)))\n",
    "\n",
    "plt.plot(accuracy_val)\n"
   ]
  },
  {
   "cell_type": "markdown",
   "metadata": {
    "id": "aOjQ21LO6Uwo"
   },
   "source": [
    "Так, мы видим, что с повышением уровня регуляризации качество модели не сильно меняется, но на валидации лучше всего себя показал всё-таки коэффициент 5.0, поэтому его и будем использовать далее"
   ]
  },
  {
   "cell_type": "markdown",
   "metadata": {
    "id": "DzFjDkBX67oP"
   },
   "source": [
    "Итак, посмотрим, какое качество получилось у финальной модели"
   ]
  },
  {
   "cell_type": "code",
   "execution_count": 58,
   "metadata": {
    "colab": {
     "base_uri": "https://localhost:8080/"
    },
    "id": "l0NPnTy57Dab",
    "outputId": "66200779-0a5f-4d53-c9ad-cf02753b1e43"
   },
   "outputs": [
    {
     "name": "stderr",
     "output_type": "stream",
     "text": [
      "/usr/local/lib/python3.7/dist-packages/sklearn/linear_model/_logistic.py:818: ConvergenceWarning: lbfgs failed to converge (status=1):\n",
      "STOP: TOTAL NO. of ITERATIONS REACHED LIMIT.\n",
      "\n",
      "Increase the number of iterations (max_iter) or scale the data as shown in:\n",
      "    https://scikit-learn.org/stable/modules/preprocessing.html\n",
      "Please also refer to the documentation for alternative solver options:\n",
      "    https://scikit-learn.org/stable/modules/linear_model.html#logistic-regression\n",
      "  extra_warning_msg=_LOGISTIC_SOLVER_CONVERGENCE_MSG,\n"
     ]
    }
   ],
   "source": [
    "model = LogisticRegression(max_iter=100, C=5.0).fit(x_train, y_train)"
   ]
  },
  {
   "cell_type": "code",
   "execution_count": 59,
   "metadata": {
    "colab": {
     "base_uri": "https://localhost:8080/"
    },
    "id": "MG3wYjH2l-jK",
    "outputId": "4e150e11-ef6b-4af3-e4e9-42c541969bdf"
   },
   "outputs": [
    {
     "name": "stdout",
     "output_type": "stream",
     "text": [
      "Качество на обучении - 0.9550333333333333\n",
      "Качество на валидации - 0.9363333333333334\n",
      "Качество на тесте - 0.9351666666666667\n"
     ]
    }
   ],
   "source": [
    "print(\"Качество на обучении - {}\".format(accuracy_score(y_train, model.predict(x_train))))\n",
    "print(\"Качество на валидации - {}\".format(accuracy_score(y_val, model.predict(x_val))))\n",
    "print(\"Качество на тесте - {}\".format(accuracy_score(y_test, model.predict(x_test))))"
   ]
  },
  {
   "cell_type": "markdown",
   "metadata": {
    "id": "IVenvB0C7XNW"
   },
   "source": [
    "Кажется, что это уже достаточно хорошие результаты, особенно считая, что случайная модель выдает качество порядка 33%. То есть модель лучше в 66/7 раза примерно, что составляет около 9.5 раз. То есть на порядок лучше"
   ]
  },
  {
   "cell_type": "markdown",
   "metadata": {
    "id": "Teha3QhA7nMW"
   },
   "source": [
    "Но мы можем попробовать еще и другие модели. Логистическая регрессия - это по сути 1-слойная нейросеть. Давайте посмотрим, получится ли сделать лучше, если настакать слоев. Для этого напишем следующие методы:"
   ]
  },
  {
   "cell_type": "code",
   "execution_count": null,
   "metadata": {
    "id": "phKqYfvPVPj4"
   },
   "outputs": [],
   "source": [
    "# model.predict(vectorizer.transform(['Михаил Пантелеймонович, добрейшей души человек, который до недавнего времени был здоров, умер']))"
   ]
  },
  {
   "cell_type": "code",
   "execution_count": 60,
   "metadata": {
    "id": "PJzMORJZSl-a"
   },
   "outputs": [],
   "source": [
    "import torch, torch.nn as nn\n",
    "import torch.nn.functional as F\n",
    "import torch.optim as optim"
   ]
  },
  {
   "cell_type": "code",
   "execution_count": 87,
   "metadata": {
    "id": "qB54R19MW6_v"
   },
   "outputs": [],
   "source": [
    "def get_batch(X, Y, batch_size=256):\n",
    "    '''\n",
    "    Возвращает случайный батч размера size\n",
    "    '''\n",
    "    assert (len(X) == len(Y))\n",
    "    sample = np.random.choice(len(X), batch_size)\n",
    "    x0 = torch.tensor(X[sample][:, :], dtype=torch.float32)\n",
    "    y0 = torch.tensor(Y[sample], dtype=torch.long)\n",
    "    \n",
    "    return x0, y0"
   ]
  },
  {
   "cell_type": "code",
   "execution_count": 88,
   "metadata": {
    "id": "GZQV3m2y7_RK"
   },
   "outputs": [],
   "source": [
    "def get_accuracy(y_true, y_pred):\n",
    "    '''\n",
    "      Считает accuracy, поскольку у нас результаты torch, то обычный accuracy_score не сработает\n",
    "    '''\n",
    "    y_true = y_true.detach().numpy()\n",
    "    y_pred = np.argmax(y_pred.detach().numpy(), axis=1)\n",
    "    \n",
    "    return (y_true == y_pred).mean()"
   ]
  },
  {
   "cell_type": "code",
   "execution_count": 89,
   "metadata": {
    "id": "cMTqvSgF8Ilc"
   },
   "outputs": [],
   "source": [
    "class Model(nn.Module):\n",
    "    def __init__(self, tf_idf_feats_amount):\n",
    "        super(self.__class__, self).__init__()\n",
    "        \n",
    "        self.dense1 = nn.Linear(tf_idf_feats_amount, 1000)\n",
    "        self.dense2 = nn.Linear(1000, 100)\n",
    "        self.dense3 = nn.Linear(100, 10)\n",
    "        \n",
    "        self.batchnorm1 = nn.BatchNorm1d(1000)\n",
    "        self.batchnorm2 = nn.BatchNorm1d(100)\n",
    "        self.batchnorm3 = nn.BatchNorm1d(10)\n",
    "        \n",
    "        self.final_dense = nn.Linear(10, 3)\n",
    "        \n",
    "        self.softmax = nn.LogSoftmax(dim=1)\n",
    "        \n",
    "    def forward(self, x):\n",
    "        x = F.relu(self.dense1(x))\n",
    "        x = self.batchnorm1(x)\n",
    "        x = F.relu(self.dense2(x))\n",
    "        x = self.batchnorm2(x)\n",
    "        x = F.relu(self.dense3(x))\n",
    "        x = self.batchnorm3(x)\n",
    "        x = F.relu(self.final_dense(x))\n",
    "        return self.softmax(x)"
   ]
  },
  {
   "cell_type": "code",
   "execution_count": 90,
   "metadata": {
    "colab": {
     "base_uri": "https://localhost:8080/"
    },
    "id": "YhHrH6RW9SZJ",
    "outputId": "000bf25f-e9a6-46e8-dec9-0ac2fe80e8a3"
   },
   "outputs": [
    {
     "data": {
      "text/plain": [
       "Model(\n",
       "  (dense1): Linear(in_features=2282, out_features=1000, bias=True)\n",
       "  (dense2): Linear(in_features=1000, out_features=100, bias=True)\n",
       "  (dense3): Linear(in_features=100, out_features=10, bias=True)\n",
       "  (batchnorm1): BatchNorm1d(1000, eps=1e-05, momentum=0.1, affine=True, track_running_stats=True)\n",
       "  (batchnorm2): BatchNorm1d(100, eps=1e-05, momentum=0.1, affine=True, track_running_stats=True)\n",
       "  (batchnorm3): BatchNorm1d(10, eps=1e-05, momentum=0.1, affine=True, track_running_stats=True)\n",
       "  (final_dense): Linear(in_features=10, out_features=3, bias=True)\n",
       "  (softmax): LogSoftmax(dim=1)\n",
       ")"
      ]
     },
     "execution_count": 90,
     "metadata": {},
     "output_type": "execute_result"
    }
   ],
   "source": [
    "model = Model(x_train.shape[1])\n",
    "model"
   ]
  },
  {
   "cell_type": "code",
   "execution_count": 91,
   "metadata": {
    "id": "isEWv9YV9Z7C"
   },
   "outputs": [],
   "source": [
    "optimizer = optim.Adam(model.parameters(), lr=0.1)\n",
    "loss_function = nn.NLLLoss()\n",
    "\n",
    "train_loss_hist = []\n",
    "train_acc_hist = []\n",
    "val_loss_hist = []\n",
    "val_acc_hist = []"
   ]
  },
  {
   "cell_type": "code",
   "execution_count": 93,
   "metadata": {
    "id": "lNa3oju2A-E9"
   },
   "outputs": [],
   "source": [
    "from copy import deepcopy"
   ]
  },
  {
   "cell_type": "code",
   "execution_count": 95,
   "metadata": {
    "colab": {
     "base_uri": "https://localhost:8080/"
    },
    "id": "90PnMkQr9mRp",
    "outputId": "98fcf567-3ce9-4f1b-c90a-b2d5be9945fb"
   },
   "outputs": [
    {
     "name": "stdout",
     "output_type": "stream",
     "text": [
      "Epoch 1\n",
      "train loss = 178.21826980123296\n",
      "val loss = 0.22473591566085815\n",
      "train acc = 0.9351333333333334\n",
      "val acc = 0.908\n",
      "_____________\n",
      "Epoch 2\n",
      "train loss = 127.0323216887191\n",
      "val loss = 0.2208021879196167\n",
      "train acc = 0.9546666666666667\n",
      "val acc = 0.9316666666666666\n",
      "_____________\n",
      "Epoch 3\n",
      "train loss = 110.98725139256567\n",
      "val loss = 0.20115800201892853\n",
      "train acc = 0.9627333333333333\n",
      "val acc = 0.93\n",
      "_____________\n",
      "Epoch 4\n",
      "train loss = 99.27529700740706\n",
      "val loss = 0.18672089278697968\n",
      "train acc = 0.9659\n",
      "val acc = 0.9383333333333334\n",
      "_____________\n",
      "Epoch 5\n",
      "train loss = 80.45234769402305\n",
      "val loss = 0.23191697895526886\n",
      "train acc = 0.9725666666666667\n",
      "val acc = 0.9346666666666666\n",
      "_____________\n",
      "Epoch 6\n",
      "train loss = 83.94293978912174\n",
      "val loss = 0.2616361975669861\n",
      "train acc = 0.9716333333333333\n",
      "val acc = 0.933\n",
      "_____________\n",
      "Epoch 7\n",
      "train loss = 73.09014918809407\n",
      "val loss = 0.30118438601493835\n",
      "train acc = 0.9770333333333333\n",
      "val acc = 0.932\n",
      "_____________\n",
      "Epoch 8\n",
      "train loss = 70.79869310939102\n",
      "val loss = 0.336032897233963\n",
      "train acc = 0.9762333333333333\n",
      "val acc = 0.925\n",
      "_____________\n",
      "Epoch 9\n",
      "train loss = 92.28183810030896\n",
      "val loss = 0.2337203174829483\n",
      "train acc = 0.9721333333333333\n",
      "val acc = 0.936\n",
      "_____________\n",
      "Epoch 10\n",
      "train loss = 64.11732377522276\n",
      "val loss = 0.20512279868125916\n",
      "train acc = 0.9787666666666667\n",
      "val acc = 0.9376666666666666\n",
      "_____________\n"
     ]
    }
   ],
   "source": [
    "best_model = deepcopy(model)\n",
    "for epoch in range(10):\n",
    "    train_loss = 0\n",
    "    train_acc = 0\n",
    "    batch_size = 32\n",
    "    train_batches = int(np.ceil(len(x_train) / 32))\n",
    "    #optimize model on all train batches\n",
    "    for _ in range(train_batches):\n",
    "        optimizer.zero_grad() \n",
    "        \n",
    "        x_batch, y_batch = get_batch(x_train, y_train, 32)\n",
    "        prediction_batch = model.forward(x_batch)\n",
    "\n",
    "        loss = loss_function(prediction_batch, y_batch)\n",
    "        loss.backward()\n",
    "        optimizer.step()\n",
    "        \n",
    "        train_loss += float(loss)\n",
    "        train_acc += get_accuracy(y_batch, prediction_batch) * x_batch.shape[0]\n",
    "    \n",
    "    # save loss and accuracy on train dataset\n",
    "    train_loss_hist.append(train_loss)\n",
    "    train_acc_hist.append(train_acc / len(x_train))\n",
    "    \n",
    "    # calculate loss and accuracy on test dataset\n",
    "    x_val_batch, y_val_batch = get_batch(x_val, y_val, len(x_val))\n",
    "    prediction_val = model.forward(x_val_batch)\n",
    "    \n",
    "    val_loss = float(loss_function(prediction_val, y_val_batch))\n",
    "    val_acc = get_accuracy(y_val_batch, prediction_val)\n",
    "    \n",
    "    val_loss_hist.append(val_loss)\n",
    "    val_acc_hist.append(val_acc)\n",
    "    if val_acc == max(val_acc_hist):\n",
    "      del best_model \n",
    "      best_model = deepcopy(model)\n",
    "\n",
    "    print(f\"Epoch {epoch + 1}\")\n",
    "    print(f\"train loss = {train_loss_hist[-1]}\")\n",
    "    print(f\"val loss = {val_loss_hist[-1]}\")\n",
    "    print(f\"train acc = {train_acc_hist[-1]}\")\n",
    "    print(f\"val acc = {val_acc_hist[-1]}\")\n",
    "    print(\"_____________\")"
   ]
  },
  {
   "cell_type": "markdown",
   "metadata": {
    "id": "Dp4JUOaDCYM6"
   },
   "source": [
    "Ну и замерим качество лучшей модели"
   ]
  },
  {
   "cell_type": "code",
   "execution_count": 97,
   "metadata": {
    "colab": {
     "base_uri": "https://localhost:8080/"
    },
    "id": "lHld_iHp_YD5",
    "outputId": "c3eb05ff-058d-4394-e9d3-7eaffe668ef7"
   },
   "outputs": [
    {
     "name": "stdout",
     "output_type": "stream",
     "text": [
      "Обучение - 0.9753\n",
      "Валидация - 0.9383333333333334\n",
      "Тест - 0.931\n"
     ]
    }
   ],
   "source": [
    "x_train_batch, y_train_batch = get_batch(x_train, y_train, len(x_train))\n",
    "x_val_batch, y_val_batch = get_batch(x_val, y_val, len(x_val))\n",
    "x_test_batch, y_test_batch = get_batch(x_test, y_test, len(x_test))\n",
    "\n",
    "prediction = best_model.forward(x_train_batch)\n",
    "print(\"Обучение - {}\".format(get_accuracy(y_train_batch, prediction)))\n",
    "prediction = best_model.forward(x_val_batch)\n",
    "print(\"Валидация - {}\".format(get_accuracy(y_val_batch, prediction)))\n",
    "prediction = best_model.forward(x_test_batch)\n",
    "print(\"Тест - {}\".format(get_accuracy(y_test_batch, prediction)))\n"
   ]
  },
  {
   "cell_type": "markdown",
   "metadata": {
    "id": "AckgxxOUDb_S"
   },
   "source": [
    "В целом мы видим, что качество на валидации не особенно выросло, всего лишь доля процента, при этом модель стала намного более тяжеловесной. В связи с этим я делаю вывод, что нет необходимости делать модель, которая считает через нейросеть - достаточно обычной логистической регрессии. **Её мы и оставим**\n",
    "\n",
    "Итоговое качество на тестовой выборке - 93.5% точности предсказания. Это прям очень хороший результат, на мой скромный взгляд"
   ]
  },
  {
   "cell_type": "code",
   "execution_count": 98,
   "metadata": {
    "colab": {
     "base_uri": "https://localhost:8080/"
    },
    "id": "pr58vYSBChdQ",
    "outputId": "ab781564-a755-4917-a08e-73e6224297fc"
   },
   "outputs": [
    {
     "name": "stderr",
     "output_type": "stream",
     "text": [
      "/usr/local/lib/python3.7/dist-packages/sklearn/linear_model/_logistic.py:818: ConvergenceWarning: lbfgs failed to converge (status=1):\n",
      "STOP: TOTAL NO. of ITERATIONS REACHED LIMIT.\n",
      "\n",
      "Increase the number of iterations (max_iter) or scale the data as shown in:\n",
      "    https://scikit-learn.org/stable/modules/preprocessing.html\n",
      "Please also refer to the documentation for alternative solver options:\n",
      "    https://scikit-learn.org/stable/modules/linear_model.html#logistic-regression\n",
      "  extra_warning_msg=_LOGISTIC_SOLVER_CONVERGENCE_MSG,\n"
     ]
    }
   ],
   "source": [
    "best_model = LogisticRegression(max_iter=100, C=5.0).fit(x_train, y_train)\n"
   ]
  },
  {
   "cell_type": "code",
   "execution_count": 100,
   "metadata": {
    "colab": {
     "base_uri": "https://localhost:8080/"
    },
    "id": "8nuVeE-hEItD",
    "outputId": "85c2d6dc-d3ce-4d32-9300-538a2ecfb94a"
   },
   "outputs": [
    {
     "name": "stdout",
     "output_type": "stream",
     "text": [
      "Качество на обучении - 0.9550333333333333\n",
      "Качество на валидации - 0.9363333333333334\n",
      "Качество на тесте - 0.9351666666666667\n"
     ]
    }
   ],
   "source": [
    "print(\"Качество на обучении - {}\".format(accuracy_score(y_train, best_model.predict(x_train))))\n",
    "print(\"Качество на валидации - {}\".format(accuracy_score(y_val, best_model.predict(x_val))))\n",
    "print(\"Качество на тесте - {}\".format(accuracy_score(y_test, best_model.predict(x_test))))"
   ]
  },
  {
   "cell_type": "code",
   "execution_count": 102,
   "metadata": {
    "id": "z7Vi5aGUEOBD"
   },
   "outputs": [],
   "source": [
    "import pickle\n",
    "\n",
    "pickle.dump(vectorizer, open(\"tfidf.pickle\", \"wb\"))\n",
    "pickle.dump(best_model, open(\"best_model.pickle\", \"wb\"))"
   ]
  },
  {
   "cell_type": "code",
   "execution_count": null,
   "metadata": {
    "id": "CWPJ9J_8EiPO"
   },
   "outputs": [],
   "source": []
  }
 ],
 "metadata": {
  "colab": {
   "collapsed_sections": [],
   "name": "GOS.ipynb",
   "provenance": []
  },
  "kernelspec": {
   "display_name": "Python 3 (ipykernel)",
   "language": "python",
   "name": "python3"
  },
  "language_info": {
   "codemirror_mode": {
    "name": "ipython",
    "version": 3
   },
   "file_extension": ".py",
   "mimetype": "text/x-python",
   "name": "python",
   "nbconvert_exporter": "python",
   "pygments_lexer": "ipython3",
   "version": "3.9.7"
  }
 },
 "nbformat": 4,
 "nbformat_minor": 1
}
