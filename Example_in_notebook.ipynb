{
 "cells": [
  {
   "cell_type": "markdown",
   "id": "fa2fce28",
   "metadata": {},
   "source": [
    "https://colab.research.google.com/drive/1XAjg5qMpdu4bpPgmywliBQqnKPfPSGMq?usp=sharing - ссылка на колаб с запуском этого кода"
   ]
  },
  {
   "cell_type": "code",
   "execution_count": 8,
   "id": "3e802245",
   "metadata": {},
   "outputs": [
    {
     "name": "stdout",
     "output_type": "stream",
     "text": [
      "Разговорный стиль текста\n"
     ]
    }
   ],
   "source": [
    "import re\n",
    "import pickle\n",
    "import sys\n",
    "import string\n",
    "import numpy as np\n",
    "\n",
    "import warnings\n",
    "warnings.filterwarnings('ignore')\n",
    "\n",
    "def process_tweet(tweet):\n",
    "    result = re.sub(\"@\\w+\", '', tweet)\n",
    "    result = re.sub('RT\\s*:', '', result)\n",
    "    result = re.sub('&lt;3', '', result)\n",
    "    result = re.sub(':D+', '', result)\n",
    "    result = re.sub(\"—\", '', result)\n",
    "    result = re.sub(\"–\", '', result)\n",
    "    result = re.sub(\"“\", '', result)\n",
    "    result = re.sub(\"…\", '', result)\n",
    "    result = re.sub('&gt;', '', result)\n",
    "    result = result.translate(str.maketrans('', '', string.punctuation)).lower()\n",
    "    result = \" \".join([t for t in result.split() if not t.startswith('http')])\n",
    "    return re.sub(\"\\s+\", \" \", result.strip())\n",
    "\n",
    "if __name__ == \"__main__\":\n",
    "    model = pickle.load(open(\"best_model.pickle\", \"rb\"))\n",
    "\n",
    "    vectorizer = pickle.load(open(\"vectorizer.pickle\", 'rb'))\n",
    "\n",
    "    input_text = \"Ну это кринж..\"\n",
    "    vector_input = vectorizer.transform([process_tweet(input_text)])\n",
    "    predicted_class = model.predict(np.array(vector_input.todense()))[0]\n",
    "\n",
    "    if predicted_class == 0:\n",
    "        print(\"Разговорный стиль текста\")\n",
    "    elif predicted_class == 1:\n",
    "        print(\"Художественный стиль текста\")\n",
    "    elif predicted_class == 2:\n",
    "        print(\"Технический стиль текста\")\n",
    "    else:\n",
    "        assert False  "
   ]
  },
  {
   "cell_type": "code",
   "execution_count": null,
   "id": "bb6a524d",
   "metadata": {},
   "outputs": [],
   "source": []
  }
 ],
 "metadata": {
  "kernelspec": {
   "display_name": "jupyter",
   "language": "python",
   "name": "jupyter"
  },
  "language_info": {
   "codemirror_mode": {
    "name": "ipython",
    "version": 3
   },
   "file_extension": ".py",
   "mimetype": "text/x-python",
   "name": "python",
   "nbconvert_exporter": "python",
   "pygments_lexer": "ipython3",
   "version": "3.9.7"
  }
 },
 "nbformat": 4,
 "nbformat_minor": 5
}
